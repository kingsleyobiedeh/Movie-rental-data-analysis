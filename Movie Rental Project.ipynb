{
 "cells": [
  {
   "cell_type": "code",
   "execution_count": 1,
   "metadata": {},
   "outputs": [],
   "source": [
    "import pandas as pd\n",
    "import numpy as np"
   ]
  },
  {
   "cell_type": "code",
   "execution_count": 2,
   "metadata": {},
   "outputs": [],
   "source": [
    "# Getting all the required libraries\n",
    "import matplotlib.pyplot as plt\n",
    "%matplotlib inline\n",
    "import seaborn as sns\n",
    "from matplotlib import style\n",
    "import datetime as dt\n",
    "style.use('ggplot')"
   ]
  },
  {
   "cell_type": "code",
   "execution_count": 3,
   "metadata": {},
   "outputs": [],
   "source": [
    "# Loading the data one by one\n",
    "customer_df = pd.read_excel('Customer.xlsx')\n",
    "kiosklocation_df = pd.read_excel('KioskLocation.xlsx')\n",
    "movie_df = pd.read_excel('Movie.xlsx')\n",
    "moviecopy_df = pd.read_excel('MovieCopy.xlsx')\n",
    "moviereview_df = pd.read_excel('MovieReview.xlsx')\n",
    "rentaltransaction_df = pd.read_excel('RentalTransaction.xlsx')\n",
    "rentalTransactionLineItem_df = pd.read_excel('RentalTransactionLineItem.xlsx')"
   ]
  },
  {
   "cell_type": "code",
   "execution_count": 4,
   "metadata": {},
   "outputs": [],
   "source": [
    "# Loading the data one by one\n",
    "customer_df = pd.read_excel('Customer.xlsx')\n",
    "kiosklocation_df = pd.read_excel('KioskLocation.xlsx')\n",
    "movie_df = pd.read_excel('Movie.xlsx')\n",
    "moviecopy_df = pd.read_excel('MovieCopy.xlsx')\n",
    "moviereview_df = pd.read_excel('MovieReview.xlsx')\n",
    "rentaltransaction_df = pd.read_excel('RentalTransaction.xlsx')\n",
    "rentalTransactionLineItem_df = pd.read_excel('RentalTransactionLineItem.xlsx')"
   ]
  },
  {
   "cell_type": "code",
   "execution_count": 5,
   "metadata": {},
   "outputs": [
    {
     "name": "stdout",
     "output_type": "stream",
     "text": [
      "shape of customer dataframe is :  (554, 12)\n",
      "shape of kiosklocation dataframe is :  (3, 8)\n",
      "shape of movie dataframe is :  (409, 4)\n",
      "shape of moviecopy dataframe is :  (1466, 4)\n",
      "shape of moviereview dataframe is :  (714, 5)\n",
      "shape of rentaltransaction dataframe is :  (4813, 6)\n",
      "shape of rentalTransactionLineItem_df dataframe is :  (6310, 5)\n"
     ]
    }
   ],
   "source": [
    "print('shape of customer dataframe is : ', customer_df.shape)\n",
    "print('shape of kiosklocation dataframe is : ', kiosklocation_df.shape)\n",
    "print('shape of movie dataframe is : ', movie_df.shape)\n",
    "print('shape of moviecopy dataframe is : ', moviecopy_df.shape)\n",
    "print('shape of moviereview dataframe is : ', moviereview_df.shape)\n",
    "print('shape of rentaltransaction dataframe is : ', rentaltransaction_df.shape)\n",
    "print('shape of rentalTransactionLineItem_df dataframe is : ', rentalTransactionLineItem_df.shape)"
   ]
  },
  {
   "cell_type": "markdown",
   "metadata": {},
   "source": [
    "## Got the first 5 rows of each dataframe to understand the dataset."
   ]
  },
  {
   "cell_type": "code",
   "execution_count": 6,
   "metadata": {},
   "outputs": [
    {
     "data": {
      "text/html": [
       "<div>\n",
       "<style scoped>\n",
       "    .dataframe tbody tr th:only-of-type {\n",
       "        vertical-align: middle;\n",
       "    }\n",
       "\n",
       "    .dataframe tbody tr th {\n",
       "        vertical-align: top;\n",
       "    }\n",
       "\n",
       "    .dataframe thead th {\n",
       "        text-align: right;\n",
       "    }\n",
       "</style>\n",
       "<table border=\"1\" class=\"dataframe\">\n",
       "  <thead>\n",
       "    <tr style=\"text-align: right;\">\n",
       "      <th></th>\n",
       "      <th>CustomerID</th>\n",
       "      <th>First</th>\n",
       "      <th>Last</th>\n",
       "      <th>StreetAddress</th>\n",
       "      <th>City</th>\n",
       "      <th>State</th>\n",
       "      <th>ZipCode</th>\n",
       "      <th>Email</th>\n",
       "      <th>PhoneNumber</th>\n",
       "      <th>MemberSince</th>\n",
       "      <th>SubscribedToEmailList</th>\n",
       "      <th>Gender</th>\n",
       "    </tr>\n",
       "  </thead>\n",
       "  <tbody>\n",
       "    <tr>\n",
       "      <th>0</th>\n",
       "      <td>101811</td>\n",
       "      <td>Kenneth</td>\n",
       "      <td>Walton</td>\n",
       "      <td>6715 Commonwealth Dr</td>\n",
       "      <td>Sacramento</td>\n",
       "      <td>CA</td>\n",
       "      <td>94256</td>\n",
       "      <td>walton.k76@fastmail.com</td>\n",
       "      <td>(916) 918-1561</td>\n",
       "      <td>2013-05-30</td>\n",
       "      <td>False</td>\n",
       "      <td>M</td>\n",
       "    </tr>\n",
       "    <tr>\n",
       "      <th>1</th>\n",
       "      <td>103508</td>\n",
       "      <td>Madeleine</td>\n",
       "      <td>Jones</td>\n",
       "      <td>3603 Leola Way</td>\n",
       "      <td>Sacramento</td>\n",
       "      <td>CA</td>\n",
       "      <td>94258</td>\n",
       "      <td>j_madeleine@gmail.com</td>\n",
       "      <td>(916) 186-9423</td>\n",
       "      <td>2013-02-06</td>\n",
       "      <td>False</td>\n",
       "      <td>F</td>\n",
       "    </tr>\n",
       "    <tr>\n",
       "      <th>2</th>\n",
       "      <td>104939</td>\n",
       "      <td>Damen</td>\n",
       "      <td>Wheeler</td>\n",
       "      <td>6740 Branwood Way</td>\n",
       "      <td>Orangevale</td>\n",
       "      <td>CA</td>\n",
       "      <td>95662</td>\n",
       "      <td>dwheeler@outlook.com</td>\n",
       "      <td>(916) 164-1156</td>\n",
       "      <td>2013-04-11</td>\n",
       "      <td>False</td>\n",
       "      <td>M</td>\n",
       "    </tr>\n",
       "    <tr>\n",
       "      <th>3</th>\n",
       "      <td>105549</td>\n",
       "      <td>Kevin</td>\n",
       "      <td>Gilbert</td>\n",
       "      <td>3198 Livingston Way</td>\n",
       "      <td>Folsom</td>\n",
       "      <td>CA</td>\n",
       "      <td>95671</td>\n",
       "      <td>kgilbert@fastmail.com</td>\n",
       "      <td>(916) 304-9859</td>\n",
       "      <td>2013-02-28</td>\n",
       "      <td>True</td>\n",
       "      <td>M</td>\n",
       "    </tr>\n",
       "    <tr>\n",
       "      <th>4</th>\n",
       "      <td>105771</td>\n",
       "      <td>John</td>\n",
       "      <td>Young</td>\n",
       "      <td>663 Westward Way</td>\n",
       "      <td>Sacramento</td>\n",
       "      <td>CA</td>\n",
       "      <td>95899</td>\n",
       "      <td>john.y90@mail.com</td>\n",
       "      <td>(916) 730-6109</td>\n",
       "      <td>2013-09-05</td>\n",
       "      <td>True</td>\n",
       "      <td>M</td>\n",
       "    </tr>\n",
       "  </tbody>\n",
       "</table>\n",
       "</div>"
      ],
      "text/plain": [
       "   CustomerID      First     Last         StreetAddress        City State  \\\n",
       "0      101811    Kenneth   Walton  6715 Commonwealth Dr  Sacramento    CA   \n",
       "1      103508  Madeleine    Jones        3603 Leola Way  Sacramento    CA   \n",
       "2      104939      Damen  Wheeler     6740 Branwood Way  Orangevale    CA   \n",
       "3      105549      Kevin  Gilbert   3198 Livingston Way      Folsom    CA   \n",
       "4      105771       John    Young      663 Westward Way  Sacramento    CA   \n",
       "\n",
       "   ZipCode                    Email     PhoneNumber MemberSince  \\\n",
       "0    94256  walton.k76@fastmail.com  (916) 918-1561  2013-05-30   \n",
       "1    94258    j_madeleine@gmail.com  (916) 186-9423  2013-02-06   \n",
       "2    95662     dwheeler@outlook.com  (916) 164-1156  2013-04-11   \n",
       "3    95671    kgilbert@fastmail.com  (916) 304-9859  2013-02-28   \n",
       "4    95899        john.y90@mail.com  (916) 730-6109  2013-09-05   \n",
       "\n",
       "   SubscribedToEmailList Gender  \n",
       "0                  False      M  \n",
       "1                  False      F  \n",
       "2                  False      M  \n",
       "3                   True      M  \n",
       "4                   True      M  "
      ]
     },
     "execution_count": 6,
     "metadata": {},
     "output_type": "execute_result"
    }
   ],
   "source": [
    "customer_df.head()"
   ]
  },
  {
   "cell_type": "code",
   "execution_count": 7,
   "metadata": {},
   "outputs": [
    {
     "data": {
      "text/html": [
       "<div>\n",
       "<style scoped>\n",
       "    .dataframe tbody tr th:only-of-type {\n",
       "        vertical-align: middle;\n",
       "    }\n",
       "\n",
       "    .dataframe tbody tr th {\n",
       "        vertical-align: top;\n",
       "    }\n",
       "\n",
       "    .dataframe thead th {\n",
       "        text-align: right;\n",
       "    }\n",
       "</style>\n",
       "<table border=\"1\" class=\"dataframe\">\n",
       "  <thead>\n",
       "    <tr style=\"text-align: right;\">\n",
       "      <th></th>\n",
       "      <th>LocationID</th>\n",
       "      <th>LocationName</th>\n",
       "      <th>StreetAddress</th>\n",
       "      <th>City</th>\n",
       "      <th>State</th>\n",
       "      <th>ZipCode</th>\n",
       "      <th>Latitude</th>\n",
       "      <th>Longitude</th>\n",
       "    </tr>\n",
       "  </thead>\n",
       "  <tbody>\n",
       "    <tr>\n",
       "      <th>0</th>\n",
       "      <td>0</td>\n",
       "      <td>LOST</td>\n",
       "      <td>NaN</td>\n",
       "      <td>NaN</td>\n",
       "      <td>NaN</td>\n",
       "      <td>NaN</td>\n",
       "      <td>NaN</td>\n",
       "      <td>NaN</td>\n",
       "    </tr>\n",
       "    <tr>\n",
       "      <th>1</th>\n",
       "      <td>1</td>\n",
       "      <td>Sac State American River Courtyard</td>\n",
       "      <td>6000 J St</td>\n",
       "      <td>Sacramento</td>\n",
       "      <td>CA</td>\n",
       "      <td>95819.0</td>\n",
       "      <td>38.566129</td>\n",
       "      <td>-121.426432</td>\n",
       "    </tr>\n",
       "    <tr>\n",
       "      <th>2</th>\n",
       "      <td>2</td>\n",
       "      <td>Sac State Union</td>\n",
       "      <td>6000 J St</td>\n",
       "      <td>Sacramento</td>\n",
       "      <td>CA</td>\n",
       "      <td>95819.0</td>\n",
       "      <td>38.559615</td>\n",
       "      <td>-121.422430</td>\n",
       "    </tr>\n",
       "  </tbody>\n",
       "</table>\n",
       "</div>"
      ],
      "text/plain": [
       "   LocationID                        LocationName StreetAddress        City  \\\n",
       "0           0                                LOST           NaN         NaN   \n",
       "1           1  Sac State American River Courtyard     6000 J St  Sacramento   \n",
       "2           2                     Sac State Union     6000 J St  Sacramento   \n",
       "\n",
       "  State  ZipCode   Latitude   Longitude  \n",
       "0   NaN      NaN        NaN         NaN  \n",
       "1    CA  95819.0  38.566129 -121.426432  \n",
       "2    CA  95819.0  38.559615 -121.422430  "
      ]
     },
     "execution_count": 7,
     "metadata": {},
     "output_type": "execute_result"
    }
   ],
   "source": [
    "kiosklocation_df.head()"
   ]
  },
  {
   "cell_type": "code",
   "execution_count": 8,
   "metadata": {},
   "outputs": [
    {
     "data": {
      "text/html": [
       "<div>\n",
       "<style scoped>\n",
       "    .dataframe tbody tr th:only-of-type {\n",
       "        vertical-align: middle;\n",
       "    }\n",
       "\n",
       "    .dataframe tbody tr th {\n",
       "        vertical-align: top;\n",
       "    }\n",
       "\n",
       "    .dataframe thead th {\n",
       "        text-align: right;\n",
       "    }\n",
       "</style>\n",
       "<table border=\"1\" class=\"dataframe\">\n",
       "  <thead>\n",
       "    <tr style=\"text-align: right;\">\n",
       "      <th></th>\n",
       "      <th>MovieID</th>\n",
       "      <th>Title</th>\n",
       "      <th>Year</th>\n",
       "      <th>Studio</th>\n",
       "    </tr>\n",
       "  </thead>\n",
       "  <tbody>\n",
       "    <tr>\n",
       "      <th>0</th>\n",
       "      <td>10000</td>\n",
       "      <td>Looper</td>\n",
       "      <td>2012</td>\n",
       "      <td>TriStar</td>\n",
       "    </tr>\n",
       "    <tr>\n",
       "      <th>1</th>\n",
       "      <td>10001</td>\n",
       "      <td>ParaNorman</td>\n",
       "      <td>2012</td>\n",
       "      <td>Focus</td>\n",
       "    </tr>\n",
       "    <tr>\n",
       "      <th>2</th>\n",
       "      <td>10002</td>\n",
       "      <td>Sinister</td>\n",
       "      <td>2012</td>\n",
       "      <td>Lionsgate</td>\n",
       "    </tr>\n",
       "    <tr>\n",
       "      <th>3</th>\n",
       "      <td>10003</td>\n",
       "      <td>Paranormal Activity 3</td>\n",
       "      <td>2011</td>\n",
       "      <td>Paramount</td>\n",
       "    </tr>\n",
       "    <tr>\n",
       "      <th>4</th>\n",
       "      <td>10004</td>\n",
       "      <td>Paranormal Activity 4</td>\n",
       "      <td>2012</td>\n",
       "      <td>Paramount</td>\n",
       "    </tr>\n",
       "  </tbody>\n",
       "</table>\n",
       "</div>"
      ],
      "text/plain": [
       "   MovieID                  Title  Year     Studio\n",
       "0    10000                 Looper  2012    TriStar\n",
       "1    10001             ParaNorman  2012      Focus\n",
       "2    10002               Sinister  2012  Lionsgate\n",
       "3    10003  Paranormal Activity 3  2011  Paramount\n",
       "4    10004  Paranormal Activity 4  2012  Paramount"
      ]
     },
     "execution_count": 8,
     "metadata": {},
     "output_type": "execute_result"
    }
   ],
   "source": [
    "movie_df.head()"
   ]
  },
  {
   "cell_type": "code",
   "execution_count": 9,
   "metadata": {},
   "outputs": [
    {
     "data": {
      "text/html": [
       "<div>\n",
       "<style scoped>\n",
       "    .dataframe tbody tr th:only-of-type {\n",
       "        vertical-align: middle;\n",
       "    }\n",
       "\n",
       "    .dataframe tbody tr th {\n",
       "        vertical-align: top;\n",
       "    }\n",
       "\n",
       "    .dataframe thead th {\n",
       "        text-align: right;\n",
       "    }\n",
       "</style>\n",
       "<table border=\"1\" class=\"dataframe\">\n",
       "  <thead>\n",
       "    <tr style=\"text-align: right;\">\n",
       "      <th></th>\n",
       "      <th>MovieCopyID</th>\n",
       "      <th>MovieID</th>\n",
       "      <th>Format</th>\n",
       "      <th>LocationID</th>\n",
       "    </tr>\n",
       "  </thead>\n",
       "  <tbody>\n",
       "    <tr>\n",
       "      <th>0</th>\n",
       "      <td>100000</td>\n",
       "      <td>10000</td>\n",
       "      <td>DVD</td>\n",
       "      <td>2</td>\n",
       "    </tr>\n",
       "    <tr>\n",
       "      <th>1</th>\n",
       "      <td>100001</td>\n",
       "      <td>10000</td>\n",
       "      <td>DVD</td>\n",
       "      <td>2</td>\n",
       "    </tr>\n",
       "    <tr>\n",
       "      <th>2</th>\n",
       "      <td>100002</td>\n",
       "      <td>10000</td>\n",
       "      <td>BLU-RAY</td>\n",
       "      <td>2</td>\n",
       "    </tr>\n",
       "    <tr>\n",
       "      <th>3</th>\n",
       "      <td>100003</td>\n",
       "      <td>10000</td>\n",
       "      <td>BLU-RAY</td>\n",
       "      <td>1</td>\n",
       "    </tr>\n",
       "    <tr>\n",
       "      <th>4</th>\n",
       "      <td>100010</td>\n",
       "      <td>10001</td>\n",
       "      <td>DVD</td>\n",
       "      <td>2</td>\n",
       "    </tr>\n",
       "  </tbody>\n",
       "</table>\n",
       "</div>"
      ],
      "text/plain": [
       "   MovieCopyID  MovieID   Format  LocationID\n",
       "0       100000    10000      DVD           2\n",
       "1       100001    10000      DVD           2\n",
       "2       100002    10000  BLU-RAY           2\n",
       "3       100003    10000  BLU-RAY           1\n",
       "4       100010    10001      DVD           2"
      ]
     },
     "execution_count": 9,
     "metadata": {},
     "output_type": "execute_result"
    }
   ],
   "source": [
    "moviecopy_df.head()"
   ]
  },
  {
   "cell_type": "code",
   "execution_count": 10,
   "metadata": {},
   "outputs": [
    {
     "data": {
      "text/html": [
       "<div>\n",
       "<style scoped>\n",
       "    .dataframe tbody tr th:only-of-type {\n",
       "        vertical-align: middle;\n",
       "    }\n",
       "\n",
       "    .dataframe tbody tr th {\n",
       "        vertical-align: top;\n",
       "    }\n",
       "\n",
       "    .dataframe thead th {\n",
       "        text-align: right;\n",
       "    }\n",
       "</style>\n",
       "<table border=\"1\" class=\"dataframe\">\n",
       "  <thead>\n",
       "    <tr style=\"text-align: right;\">\n",
       "      <th></th>\n",
       "      <th>CustomerID</th>\n",
       "      <th>MovieID</th>\n",
       "      <th>StarRating</th>\n",
       "      <th>RatingDate</th>\n",
       "      <th>RatingComments</th>\n",
       "    </tr>\n",
       "  </thead>\n",
       "  <tbody>\n",
       "    <tr>\n",
       "      <th>0</th>\n",
       "      <td>101811</td>\n",
       "      <td>10208</td>\n",
       "      <td>5</td>\n",
       "      <td>2013-07-15</td>\n",
       "      <td>This film was amazing!</td>\n",
       "    </tr>\n",
       "    <tr>\n",
       "      <th>1</th>\n",
       "      <td>101811</td>\n",
       "      <td>10248</td>\n",
       "      <td>1</td>\n",
       "      <td>2013-07-08</td>\n",
       "      <td>Hmm, the house really was at the end of the st...</td>\n",
       "    </tr>\n",
       "    <tr>\n",
       "      <th>2</th>\n",
       "      <td>101811</td>\n",
       "      <td>10259</td>\n",
       "      <td>3</td>\n",
       "      <td>2013-07-25</td>\n",
       "      <td>NaN</td>\n",
       "    </tr>\n",
       "    <tr>\n",
       "      <th>3</th>\n",
       "      <td>101811</td>\n",
       "      <td>10377</td>\n",
       "      <td>2</td>\n",
       "      <td>2013-11-15</td>\n",
       "      <td>NaN</td>\n",
       "    </tr>\n",
       "    <tr>\n",
       "      <th>4</th>\n",
       "      <td>105549</td>\n",
       "      <td>10260</td>\n",
       "      <td>2</td>\n",
       "      <td>2013-08-11</td>\n",
       "      <td>NaN</td>\n",
       "    </tr>\n",
       "  </tbody>\n",
       "</table>\n",
       "</div>"
      ],
      "text/plain": [
       "   CustomerID  MovieID  StarRating RatingDate  \\\n",
       "0      101811    10208           5 2013-07-15   \n",
       "1      101811    10248           1 2013-07-08   \n",
       "2      101811    10259           3 2013-07-25   \n",
       "3      101811    10377           2 2013-11-15   \n",
       "4      105549    10260           2 2013-08-11   \n",
       "\n",
       "                                      RatingComments  \n",
       "0                             This film was amazing!  \n",
       "1  Hmm, the house really was at the end of the st...  \n",
       "2                                                NaN  \n",
       "3                                                NaN  \n",
       "4                                                NaN  "
      ]
     },
     "execution_count": 10,
     "metadata": {},
     "output_type": "execute_result"
    }
   ],
   "source": [
    "moviereview_df.head()"
   ]
  },
  {
   "cell_type": "code",
   "execution_count": 11,
   "metadata": {},
   "outputs": [
    {
     "data": {
      "text/html": [
       "<div>\n",
       "<style scoped>\n",
       "    .dataframe tbody tr th:only-of-type {\n",
       "        vertical-align: middle;\n",
       "    }\n",
       "\n",
       "    .dataframe tbody tr th {\n",
       "        vertical-align: top;\n",
       "    }\n",
       "\n",
       "    .dataframe thead th {\n",
       "        text-align: right;\n",
       "    }\n",
       "</style>\n",
       "<table border=\"1\" class=\"dataframe\">\n",
       "  <thead>\n",
       "    <tr style=\"text-align: right;\">\n",
       "      <th></th>\n",
       "      <th>TransactionID</th>\n",
       "      <th>CustomerID</th>\n",
       "      <th>TransactionDate</th>\n",
       "      <th>CC-Number</th>\n",
       "      <th>CC-Type</th>\n",
       "      <th>LocationID</th>\n",
       "    </tr>\n",
       "  </thead>\n",
       "  <tbody>\n",
       "    <tr>\n",
       "      <th>0</th>\n",
       "      <td>100000</td>\n",
       "      <td>864896</td>\n",
       "      <td>2012-07-07</td>\n",
       "      <td>6011583832864739</td>\n",
       "      <td>Discover</td>\n",
       "      <td>2</td>\n",
       "    </tr>\n",
       "    <tr>\n",
       "      <th>1</th>\n",
       "      <td>100001</td>\n",
       "      <td>610766</td>\n",
       "      <td>2012-07-13</td>\n",
       "      <td>4716634257568793</td>\n",
       "      <td>Visa</td>\n",
       "      <td>1</td>\n",
       "    </tr>\n",
       "    <tr>\n",
       "      <th>2</th>\n",
       "      <td>100002</td>\n",
       "      <td>207846</td>\n",
       "      <td>2012-07-13</td>\n",
       "      <td>5597608517846968</td>\n",
       "      <td>MasterCard</td>\n",
       "      <td>1</td>\n",
       "    </tr>\n",
       "    <tr>\n",
       "      <th>3</th>\n",
       "      <td>100003</td>\n",
       "      <td>166612</td>\n",
       "      <td>2012-07-17</td>\n",
       "      <td>5487443089509478</td>\n",
       "      <td>MasterCard</td>\n",
       "      <td>2</td>\n",
       "    </tr>\n",
       "    <tr>\n",
       "      <th>4</th>\n",
       "      <td>100004</td>\n",
       "      <td>482274</td>\n",
       "      <td>2012-07-26</td>\n",
       "      <td>4532262424412224</td>\n",
       "      <td>Visa</td>\n",
       "      <td>2</td>\n",
       "    </tr>\n",
       "  </tbody>\n",
       "</table>\n",
       "</div>"
      ],
      "text/plain": [
       "   TransactionID  CustomerID TransactionDate         CC-Number     CC-Type  \\\n",
       "0         100000      864896      2012-07-07  6011583832864739    Discover   \n",
       "1         100001      610766      2012-07-13  4716634257568793        Visa   \n",
       "2         100002      207846      2012-07-13  5597608517846968  MasterCard   \n",
       "3         100003      166612      2012-07-17  5487443089509478  MasterCard   \n",
       "4         100004      482274      2012-07-26  4532262424412224        Visa   \n",
       "\n",
       "   LocationID  \n",
       "0           2  \n",
       "1           1  \n",
       "2           1  \n",
       "3           2  \n",
       "4           2  "
      ]
     },
     "execution_count": 11,
     "metadata": {},
     "output_type": "execute_result"
    }
   ],
   "source": [
    "rentaltransaction_df.head()"
   ]
  },
  {
   "cell_type": "code",
   "execution_count": 12,
   "metadata": {},
   "outputs": [
    {
     "data": {
      "text/html": [
       "<div>\n",
       "<style scoped>\n",
       "    .dataframe tbody tr th:only-of-type {\n",
       "        vertical-align: middle;\n",
       "    }\n",
       "\n",
       "    .dataframe tbody tr th {\n",
       "        vertical-align: top;\n",
       "    }\n",
       "\n",
       "    .dataframe thead th {\n",
       "        text-align: right;\n",
       "    }\n",
       "</style>\n",
       "<table border=\"1\" class=\"dataframe\">\n",
       "  <thead>\n",
       "    <tr style=\"text-align: right;\">\n",
       "      <th></th>\n",
       "      <th>LineItemID</th>\n",
       "      <th>TransactionID</th>\n",
       "      <th>MovieCopyID</th>\n",
       "      <th>Price</th>\n",
       "      <th>ReturnDate</th>\n",
       "    </tr>\n",
       "  </thead>\n",
       "  <tbody>\n",
       "    <tr>\n",
       "      <th>0</th>\n",
       "      <td>100000</td>\n",
       "      <td>100000</td>\n",
       "      <td>102083</td>\n",
       "      <td>1</td>\n",
       "      <td>2012-07-10</td>\n",
       "    </tr>\n",
       "    <tr>\n",
       "      <th>1</th>\n",
       "      <td>100001</td>\n",
       "      <td>100000</td>\n",
       "      <td>102071</td>\n",
       "      <td>1</td>\n",
       "      <td>2012-07-08</td>\n",
       "    </tr>\n",
       "    <tr>\n",
       "      <th>2</th>\n",
       "      <td>100002</td>\n",
       "      <td>100000</td>\n",
       "      <td>101682</td>\n",
       "      <td>1</td>\n",
       "      <td>2012-07-09</td>\n",
       "    </tr>\n",
       "    <tr>\n",
       "      <th>3</th>\n",
       "      <td>100003</td>\n",
       "      <td>100000</td>\n",
       "      <td>100982</td>\n",
       "      <td>1</td>\n",
       "      <td>2012-07-08</td>\n",
       "    </tr>\n",
       "    <tr>\n",
       "      <th>4</th>\n",
       "      <td>100004</td>\n",
       "      <td>100001</td>\n",
       "      <td>101211</td>\n",
       "      <td>1</td>\n",
       "      <td>2012-07-14</td>\n",
       "    </tr>\n",
       "  </tbody>\n",
       "</table>\n",
       "</div>"
      ],
      "text/plain": [
       "   LineItemID  TransactionID  MovieCopyID  Price ReturnDate\n",
       "0      100000         100000       102083      1 2012-07-10\n",
       "1      100001         100000       102071      1 2012-07-08\n",
       "2      100002         100000       101682      1 2012-07-09\n",
       "3      100003         100000       100982      1 2012-07-08\n",
       "4      100004         100001       101211      1 2012-07-14"
      ]
     },
     "execution_count": 12,
     "metadata": {},
     "output_type": "execute_result"
    }
   ],
   "source": [
    "rentalTransactionLineItem_df.head()"
   ]
  },
  {
   "cell_type": "code",
   "execution_count": 13,
   "metadata": {},
   "outputs": [],
   "source": [
    "# since, there are different data types including dates, it's required to ensure that the\n",
    "# the datatypes are in the right format."
   ]
  },
  {
   "cell_type": "code",
   "execution_count": 14,
   "metadata": {},
   "outputs": [
    {
     "data": {
      "text/plain": [
       "CustomerID                        int64\n",
       "First                            object\n",
       "Last                             object\n",
       "StreetAddress                    object\n",
       "City                             object\n",
       "State                            object\n",
       "ZipCode                           int64\n",
       "Email                            object\n",
       "PhoneNumber                      object\n",
       "MemberSince              datetime64[ns]\n",
       "SubscribedToEmailList              bool\n",
       "Gender                           object\n",
       "dtype: object"
      ]
     },
     "execution_count": 14,
     "metadata": {},
     "output_type": "execute_result"
    }
   ],
   "source": [
    "customer_df.dtypes\n"
   ]
  },
  {
   "cell_type": "code",
   "execution_count": 15,
   "metadata": {},
   "outputs": [
    {
     "data": {
      "text/plain": [
       "LocationID         int64\n",
       "LocationName      object\n",
       "StreetAddress     object\n",
       "City              object\n",
       "State             object\n",
       "ZipCode          float64\n",
       "Latitude         float64\n",
       "Longitude        float64\n",
       "dtype: object"
      ]
     },
     "execution_count": 15,
     "metadata": {},
     "output_type": "execute_result"
    }
   ],
   "source": [
    "kiosklocation_df.dtypes"
   ]
  },
  {
   "cell_type": "code",
   "execution_count": 16,
   "metadata": {},
   "outputs": [
    {
     "data": {
      "text/plain": [
       "MovieID     int64\n",
       "Title      object\n",
       "Year        int64\n",
       "Studio     object\n",
       "dtype: object"
      ]
     },
     "execution_count": 16,
     "metadata": {},
     "output_type": "execute_result"
    }
   ],
   "source": [
    "movie_df.dtypes"
   ]
  },
  {
   "cell_type": "code",
   "execution_count": 17,
   "metadata": {},
   "outputs": [
    {
     "data": {
      "text/plain": [
       "MovieCopyID     int64\n",
       "MovieID         int64\n",
       "Format         object\n",
       "LocationID      int64\n",
       "dtype: object"
      ]
     },
     "execution_count": 17,
     "metadata": {},
     "output_type": "execute_result"
    }
   ],
   "source": [
    "moviecopy_df.dtypes"
   ]
  },
  {
   "cell_type": "code",
   "execution_count": 18,
   "metadata": {},
   "outputs": [
    {
     "data": {
      "text/plain": [
       "TransactionID               int64\n",
       "CustomerID                  int64\n",
       "TransactionDate    datetime64[ns]\n",
       "CC-Number                   int64\n",
       "CC-Type                    object\n",
       "LocationID                  int64\n",
       "dtype: object"
      ]
     },
     "execution_count": 18,
     "metadata": {},
     "output_type": "execute_result"
    }
   ],
   "source": [
    "rentaltransaction_df.dtypes"
   ]
  },
  {
   "cell_type": "code",
   "execution_count": 19,
   "metadata": {},
   "outputs": [
    {
     "data": {
      "text/plain": [
       "LineItemID                int64\n",
       "TransactionID             int64\n",
       "MovieCopyID               int64\n",
       "Price                     int64\n",
       "ReturnDate       datetime64[ns]\n",
       "dtype: object"
      ]
     },
     "execution_count": 19,
     "metadata": {},
     "output_type": "execute_result"
    }
   ],
   "source": [
    "rentalTransactionLineItem_df.dtypes"
   ]
  },
  {
   "cell_type": "code",
   "execution_count": 20,
   "metadata": {},
   "outputs": [],
   "source": [
    "rentalTransactionLineItem_df['Price'] = rentalTransactionLineItem_df['Price'].astype(float)"
   ]
  },
  {
   "cell_type": "markdown",
   "metadata": {},
   "source": [
    "## Checked for null values and clean were required."
   ]
  },
  {
   "cell_type": "code",
   "execution_count": 21,
   "metadata": {},
   "outputs": [
    {
     "data": {
      "text/plain": [
       "CustomerID               False\n",
       "First                    False\n",
       "Last                     False\n",
       "StreetAddress            False\n",
       "City                     False\n",
       "State                    False\n",
       "ZipCode                  False\n",
       "Email                    False\n",
       "PhoneNumber              False\n",
       "MemberSince              False\n",
       "SubscribedToEmailList    False\n",
       "Gender                   False\n",
       "dtype: bool"
      ]
     },
     "execution_count": 21,
     "metadata": {},
     "output_type": "execute_result"
    }
   ],
   "source": [
    "# Customer_df seems good.\n",
    "customer_df.isnull().any()"
   ]
  },
  {
   "cell_type": "code",
   "execution_count": 22,
   "metadata": {},
   "outputs": [
    {
     "data": {
      "text/plain": [
       "LocationID       False\n",
       "LocationName     False\n",
       "StreetAddress     True\n",
       "City              True\n",
       "State             True\n",
       "ZipCode           True\n",
       "Latitude          True\n",
       "Longitude         True\n",
       "dtype: bool"
      ]
     },
     "execution_count": 22,
     "metadata": {},
     "output_type": "execute_result"
    }
   ],
   "source": [
    "kiosklocation_df.isnull().any()"
   ]
  },
  {
   "cell_type": "code",
   "execution_count": 23,
   "metadata": {},
   "outputs": [
    {
     "data": {
      "text/html": [
       "<div>\n",
       "<style scoped>\n",
       "    .dataframe tbody tr th:only-of-type {\n",
       "        vertical-align: middle;\n",
       "    }\n",
       "\n",
       "    .dataframe tbody tr th {\n",
       "        vertical-align: top;\n",
       "    }\n",
       "\n",
       "    .dataframe thead th {\n",
       "        text-align: right;\n",
       "    }\n",
       "</style>\n",
       "<table border=\"1\" class=\"dataframe\">\n",
       "  <thead>\n",
       "    <tr style=\"text-align: right;\">\n",
       "      <th></th>\n",
       "      <th>LocationID</th>\n",
       "      <th>LocationName</th>\n",
       "      <th>StreetAddress</th>\n",
       "      <th>City</th>\n",
       "      <th>State</th>\n",
       "      <th>ZipCode</th>\n",
       "      <th>Latitude</th>\n",
       "      <th>Longitude</th>\n",
       "    </tr>\n",
       "  </thead>\n",
       "  <tbody>\n",
       "    <tr>\n",
       "      <th>0</th>\n",
       "      <td>0</td>\n",
       "      <td>LOST</td>\n",
       "      <td>NaN</td>\n",
       "      <td>NaN</td>\n",
       "      <td>NaN</td>\n",
       "      <td>NaN</td>\n",
       "      <td>NaN</td>\n",
       "      <td>NaN</td>\n",
       "    </tr>\n",
       "    <tr>\n",
       "      <th>1</th>\n",
       "      <td>1</td>\n",
       "      <td>Sac State American River Courtyard</td>\n",
       "      <td>6000 J St</td>\n",
       "      <td>Sacramento</td>\n",
       "      <td>CA</td>\n",
       "      <td>95819.0</td>\n",
       "      <td>38.566129</td>\n",
       "      <td>-121.426432</td>\n",
       "    </tr>\n",
       "    <tr>\n",
       "      <th>2</th>\n",
       "      <td>2</td>\n",
       "      <td>Sac State Union</td>\n",
       "      <td>6000 J St</td>\n",
       "      <td>Sacramento</td>\n",
       "      <td>CA</td>\n",
       "      <td>95819.0</td>\n",
       "      <td>38.559615</td>\n",
       "      <td>-121.422430</td>\n",
       "    </tr>\n",
       "  </tbody>\n",
       "</table>\n",
       "</div>"
      ],
      "text/plain": [
       "   LocationID                        LocationName StreetAddress        City  \\\n",
       "0           0                                LOST           NaN         NaN   \n",
       "1           1  Sac State American River Courtyard     6000 J St  Sacramento   \n",
       "2           2                     Sac State Union     6000 J St  Sacramento   \n",
       "\n",
       "  State  ZipCode   Latitude   Longitude  \n",
       "0   NaN      NaN        NaN         NaN  \n",
       "1    CA  95819.0  38.566129 -121.426432  \n",
       "2    CA  95819.0  38.559615 -121.422430  "
      ]
     },
     "execution_count": 23,
     "metadata": {},
     "output_type": "execute_result"
    }
   ],
   "source": [
    "kiosklocation_df.head()"
   ]
  },
  {
   "cell_type": "code",
   "execution_count": 24,
   "metadata": {},
   "outputs": [
    {
     "data": {
      "text/html": [
       "<div>\n",
       "<style scoped>\n",
       "    .dataframe tbody tr th:only-of-type {\n",
       "        vertical-align: middle;\n",
       "    }\n",
       "\n",
       "    .dataframe tbody tr th {\n",
       "        vertical-align: top;\n",
       "    }\n",
       "\n",
       "    .dataframe thead th {\n",
       "        text-align: right;\n",
       "    }\n",
       "</style>\n",
       "<table border=\"1\" class=\"dataframe\">\n",
       "  <thead>\n",
       "    <tr style=\"text-align: right;\">\n",
       "      <th></th>\n",
       "      <th>LocationID</th>\n",
       "      <th>LocationName</th>\n",
       "      <th>StreetAddress</th>\n",
       "      <th>City</th>\n",
       "      <th>State</th>\n",
       "      <th>ZipCode</th>\n",
       "      <th>Latitude</th>\n",
       "      <th>Longitude</th>\n",
       "    </tr>\n",
       "  </thead>\n",
       "  <tbody>\n",
       "    <tr>\n",
       "      <th>1</th>\n",
       "      <td>1</td>\n",
       "      <td>Sac State American River Courtyard</td>\n",
       "      <td>6000 J St</td>\n",
       "      <td>Sacramento</td>\n",
       "      <td>CA</td>\n",
       "      <td>95819.0</td>\n",
       "      <td>38.566129</td>\n",
       "      <td>-121.426432</td>\n",
       "    </tr>\n",
       "    <tr>\n",
       "      <th>2</th>\n",
       "      <td>2</td>\n",
       "      <td>Sac State Union</td>\n",
       "      <td>6000 J St</td>\n",
       "      <td>Sacramento</td>\n",
       "      <td>CA</td>\n",
       "      <td>95819.0</td>\n",
       "      <td>38.559615</td>\n",
       "      <td>-121.422430</td>\n",
       "    </tr>\n",
       "  </tbody>\n",
       "</table>\n",
       "</div>"
      ],
      "text/plain": [
       "   LocationID                        LocationName StreetAddress        City  \\\n",
       "1           1  Sac State American River Courtyard     6000 J St  Sacramento   \n",
       "2           2                     Sac State Union     6000 J St  Sacramento   \n",
       "\n",
       "  State  ZipCode   Latitude   Longitude  \n",
       "1    CA  95819.0  38.566129 -121.426432  \n",
       "2    CA  95819.0  38.559615 -121.422430  "
      ]
     },
     "execution_count": 24,
     "metadata": {},
     "output_type": "execute_result"
    }
   ],
   "source": [
    "# the Nan value in Kiosklocation dataframe exists in row 0 so it would be droped\n",
    "kiosklocation_df = kiosklocation_df.drop(0, axis =0)\n",
    "kiosklocation_df.head()"
   ]
  },
  {
   "cell_type": "code",
   "execution_count": 25,
   "metadata": {},
   "outputs": [
    {
     "data": {
      "text/plain": [
       "MovieID    False\n",
       "Title      False\n",
       "Year       False\n",
       "Studio     False\n",
       "dtype: bool"
      ]
     },
     "execution_count": 25,
     "metadata": {},
     "output_type": "execute_result"
    }
   ],
   "source": [
    "movie_df.isnull().any()"
   ]
  },
  {
   "cell_type": "code",
   "execution_count": 26,
   "metadata": {},
   "outputs": [
    {
     "data": {
      "text/plain": [
       "MovieCopyID    False\n",
       "MovieID        False\n",
       "Format         False\n",
       "LocationID     False\n",
       "dtype: bool"
      ]
     },
     "execution_count": 26,
     "metadata": {},
     "output_type": "execute_result"
    }
   ],
   "source": [
    "moviecopy_df.isnull().any()"
   ]
  },
  {
   "cell_type": "code",
   "execution_count": 27,
   "metadata": {},
   "outputs": [
    {
     "data": {
      "text/plain": [
       "CustomerID        False\n",
       "MovieID           False\n",
       "StarRating        False\n",
       "RatingDate        False\n",
       "RatingComments     True\n",
       "dtype: bool"
      ]
     },
     "execution_count": 27,
     "metadata": {},
     "output_type": "execute_result"
    }
   ],
   "source": [
    "moviereview_df.isnull().any()"
   ]
  },
  {
   "cell_type": "code",
   "execution_count": 28,
   "metadata": {},
   "outputs": [
    {
     "data": {
      "text/html": [
       "<div>\n",
       "<style scoped>\n",
       "    .dataframe tbody tr th:only-of-type {\n",
       "        vertical-align: middle;\n",
       "    }\n",
       "\n",
       "    .dataframe tbody tr th {\n",
       "        vertical-align: top;\n",
       "    }\n",
       "\n",
       "    .dataframe thead th {\n",
       "        text-align: right;\n",
       "    }\n",
       "</style>\n",
       "<table border=\"1\" class=\"dataframe\">\n",
       "  <thead>\n",
       "    <tr style=\"text-align: right;\">\n",
       "      <th></th>\n",
       "      <th>CustomerID</th>\n",
       "      <th>MovieID</th>\n",
       "      <th>StarRating</th>\n",
       "      <th>RatingDate</th>\n",
       "    </tr>\n",
       "  </thead>\n",
       "  <tbody>\n",
       "    <tr>\n",
       "      <th>0</th>\n",
       "      <td>101811</td>\n",
       "      <td>10208</td>\n",
       "      <td>5</td>\n",
       "      <td>2013-07-15</td>\n",
       "    </tr>\n",
       "    <tr>\n",
       "      <th>1</th>\n",
       "      <td>101811</td>\n",
       "      <td>10248</td>\n",
       "      <td>1</td>\n",
       "      <td>2013-07-08</td>\n",
       "    </tr>\n",
       "    <tr>\n",
       "      <th>2</th>\n",
       "      <td>101811</td>\n",
       "      <td>10259</td>\n",
       "      <td>3</td>\n",
       "      <td>2013-07-25</td>\n",
       "    </tr>\n",
       "    <tr>\n",
       "      <th>3</th>\n",
       "      <td>101811</td>\n",
       "      <td>10377</td>\n",
       "      <td>2</td>\n",
       "      <td>2013-11-15</td>\n",
       "    </tr>\n",
       "    <tr>\n",
       "      <th>4</th>\n",
       "      <td>105549</td>\n",
       "      <td>10260</td>\n",
       "      <td>2</td>\n",
       "      <td>2013-08-11</td>\n",
       "    </tr>\n",
       "  </tbody>\n",
       "</table>\n",
       "</div>"
      ],
      "text/plain": [
       "   CustomerID  MovieID  StarRating RatingDate\n",
       "0      101811    10208           5 2013-07-15\n",
       "1      101811    10248           1 2013-07-08\n",
       "2      101811    10259           3 2013-07-25\n",
       "3      101811    10377           2 2013-11-15\n",
       "4      105549    10260           2 2013-08-11"
      ]
     },
     "execution_count": 28,
     "metadata": {},
     "output_type": "execute_result"
    }
   ],
   "source": [
    "# Rating comments is dropped, since starrating can be used as the evalauation parameter\n",
    "moviereview_df = moviereview_df.drop('RatingComments', axis = 1)\n",
    "moviereview_df.head()"
   ]
  },
  {
   "cell_type": "code",
   "execution_count": 29,
   "metadata": {},
   "outputs": [
    {
     "data": {
      "text/plain": [
       "TransactionID      False\n",
       "CustomerID         False\n",
       "TransactionDate    False\n",
       "CC-Number          False\n",
       "CC-Type            False\n",
       "LocationID         False\n",
       "dtype: bool"
      ]
     },
     "execution_count": 29,
     "metadata": {},
     "output_type": "execute_result"
    }
   ],
   "source": [
    "rentaltransaction_df.isnull().any()"
   ]
  },
  {
   "cell_type": "code",
   "execution_count": 30,
   "metadata": {},
   "outputs": [
    {
     "data": {
      "text/plain": [
       "LineItemID       False\n",
       "TransactionID    False\n",
       "MovieCopyID      False\n",
       "Price            False\n",
       "ReturnDate       False\n",
       "dtype: bool"
      ]
     },
     "execution_count": 30,
     "metadata": {},
     "output_type": "execute_result"
    }
   ],
   "source": [
    "rentalTransactionLineItem_df.isnull().any()"
   ]
  },
  {
   "cell_type": "code",
   "execution_count": 31,
   "metadata": {
    "scrolled": true
   },
   "outputs": [
    {
     "name": "stdout",
     "output_type": "stream",
     "text": [
      "customer_df: \n",
      " Index(['CustomerID', 'CX_First', 'CX_Last', 'CX_StreetAddress', 'CX_City',\n",
      "       'CX_State', 'CX_ZipCode', 'CX_Email', 'CX_PhoneNumber',\n",
      "       'CX_MemberSince', 'CX_SubscribedToEmailList', 'CX_Gender'],\n",
      "      dtype='object')\n",
      "---------------------------------------------------------------------------------\n",
      "kiosklocation_df: \n",
      " Index(['LocationID', 'KI_LocationName', 'KI_StreetAddress', 'KI_City',\n",
      "       'KI_State', 'KI_ZipCode', 'KI_Latitude', 'KI_Longitude'],\n",
      "      dtype='object')\n"
     ]
    }
   ],
   "source": [
    "#To avoid mistakening kiosk location and customers location we add prefix to their respective columns to show \n",
    "#source table with exception to LocationID col to prevent difficulty when merging.\n",
    "cx_cols = {}\n",
    "ki_cols = {}\n",
    "\n",
    "def new_names(data, dict, prefix):\n",
    "    for i, j in enumerate(data.columns):\n",
    "        dict[j] = prefix + j\n",
    "        \n",
    "new_names(customer_df, cx_cols, 'CX_')\n",
    "new_names(kiosklocation_df, ki_cols, 'KI_')\n",
    "\n",
    "customer_df = customer_df.rename(columns=cx_cols)\n",
    "kiosklocation_df = kiosklocation_df.rename(columns=ki_cols)\n",
    "\n",
    "customer_df.rename(columns = {'CX_CustomerID' : 'CustomerID'}, inplace = True)\n",
    "kiosklocation_df.rename(columns = {'KI_LocationID' : 'LocationID'}, inplace = True)\n",
    "\n",
    "print('customer_df: \\n', customer_df.columns)\n",
    "print('---------------------------------------------------------------------------------')\n",
    "print('kiosklocation_df: \\n', kiosklocation_df.columns)\n",
    "\n"
   ]
  },
  {
   "cell_type": "code",
   "execution_count": 32,
   "metadata": {},
   "outputs": [],
   "source": [
    "customer_df.set_index('CustomerID', inplace = True)\n",
    "kiosklocation_df.set_index('LocationID', inplace = True)\n",
    "movie_df.set_index('MovieID', inplace = True)\n",
    "moviecopy_df.set_index('MovieCopyID', inplace = True)\n",
    "rentaltransaction_df.set_index('TransactionID', inplace = True)"
   ]
  },
  {
   "cell_type": "markdown",
   "metadata": {},
   "source": [
    "## Check for duplicates"
   ]
  },
  {
   "cell_type": "code",
   "execution_count": 33,
   "metadata": {},
   "outputs": [
    {
     "name": "stdout",
     "output_type": "stream",
     "text": [
      "Total duplicated in customer_df : 0\n",
      "Total duplicated in kiosklocation_df : 0\n",
      "Total duplicated in movie_df : 0\n",
      "Total duplicated in moviecopy_df : 0\n",
      "Total duplicated in rentaltransaction_df : 0\n",
      "Total duplicated in rentalTransactionLineItem_df : 0\n"
     ]
    }
   ],
   "source": [
    "print('Total duplicated in customer_df :',sum(customer_df.index.duplicated()))\n",
    "print('Total duplicated in kiosklocation_df :',sum(kiosklocation_df.index.duplicated()))\n",
    "print('Total duplicated in movie_df :',sum(movie_df.index.duplicated()))\n",
    "print('Total duplicated in moviecopy_df :',sum(moviecopy_df.index.duplicated()))\n",
    "print('Total duplicated in rentaltransaction_df :',sum(rentaltransaction_df.index.duplicated()))\n",
    "print('Total duplicated in rentalTransactionLineItem_df :', sum(rentalTransactionLineItem_df.LineItemID.duplicated()))\n"
   ]
  },
  {
   "cell_type": "markdown",
   "metadata": {},
   "source": [
    "## Merge data to single data frame"
   ]
  },
  {
   "cell_type": "code",
   "execution_count": 34,
   "metadata": {},
   "outputs": [
    {
     "data": {
      "text/html": [
       "<div>\n",
       "<style scoped>\n",
       "    .dataframe tbody tr th:only-of-type {\n",
       "        vertical-align: middle;\n",
       "    }\n",
       "\n",
       "    .dataframe tbody tr th {\n",
       "        vertical-align: top;\n",
       "    }\n",
       "\n",
       "    .dataframe thead th {\n",
       "        text-align: right;\n",
       "    }\n",
       "</style>\n",
       "<table border=\"1\" class=\"dataframe\">\n",
       "  <thead>\n",
       "    <tr style=\"text-align: right;\">\n",
       "      <th></th>\n",
       "      <th>LineItemID</th>\n",
       "      <th>TransactionID</th>\n",
       "      <th>MovieCopyID</th>\n",
       "      <th>Price</th>\n",
       "      <th>ReturnDate</th>\n",
       "    </tr>\n",
       "  </thead>\n",
       "  <tbody>\n",
       "    <tr>\n",
       "      <th>0</th>\n",
       "      <td>100000</td>\n",
       "      <td>100000</td>\n",
       "      <td>102083</td>\n",
       "      <td>1.0</td>\n",
       "      <td>2012-07-10</td>\n",
       "    </tr>\n",
       "    <tr>\n",
       "      <th>1</th>\n",
       "      <td>100001</td>\n",
       "      <td>100000</td>\n",
       "      <td>102071</td>\n",
       "      <td>1.0</td>\n",
       "      <td>2012-07-08</td>\n",
       "    </tr>\n",
       "    <tr>\n",
       "      <th>2</th>\n",
       "      <td>100002</td>\n",
       "      <td>100000</td>\n",
       "      <td>101682</td>\n",
       "      <td>1.0</td>\n",
       "      <td>2012-07-09</td>\n",
       "    </tr>\n",
       "    <tr>\n",
       "      <th>3</th>\n",
       "      <td>100003</td>\n",
       "      <td>100000</td>\n",
       "      <td>100982</td>\n",
       "      <td>1.0</td>\n",
       "      <td>2012-07-08</td>\n",
       "    </tr>\n",
       "    <tr>\n",
       "      <th>4</th>\n",
       "      <td>100004</td>\n",
       "      <td>100001</td>\n",
       "      <td>101211</td>\n",
       "      <td>1.0</td>\n",
       "      <td>2012-07-14</td>\n",
       "    </tr>\n",
       "  </tbody>\n",
       "</table>\n",
       "</div>"
      ],
      "text/plain": [
       "   LineItemID  TransactionID  MovieCopyID  Price ReturnDate\n",
       "0      100000         100000       102083    1.0 2012-07-10\n",
       "1      100001         100000       102071    1.0 2012-07-08\n",
       "2      100002         100000       101682    1.0 2012-07-09\n",
       "3      100003         100000       100982    1.0 2012-07-08\n",
       "4      100004         100001       101211    1.0 2012-07-14"
      ]
     },
     "execution_count": 34,
     "metadata": {},
     "output_type": "execute_result"
    }
   ],
   "source": [
    "rentalTransactionLineItem_df.head()"
   ]
  },
  {
   "cell_type": "code",
   "execution_count": 35,
   "metadata": {},
   "outputs": [],
   "source": [
    "RT = pd.merge(rentalTransactionLineItem_df,rentaltransaction_df, how = 'left', on = 'TransactionID')"
   ]
  },
  {
   "cell_type": "code",
   "execution_count": 36,
   "metadata": {},
   "outputs": [
    {
     "data": {
      "text/plain": [
       "(6310, 10)"
      ]
     },
     "execution_count": 36,
     "metadata": {},
     "output_type": "execute_result"
    }
   ],
   "source": [
    "RT.shape"
   ]
  },
  {
   "cell_type": "code",
   "execution_count": 37,
   "metadata": {},
   "outputs": [
    {
     "data": {
      "text/html": [
       "<div>\n",
       "<style scoped>\n",
       "    .dataframe tbody tr th:only-of-type {\n",
       "        vertical-align: middle;\n",
       "    }\n",
       "\n",
       "    .dataframe tbody tr th {\n",
       "        vertical-align: top;\n",
       "    }\n",
       "\n",
       "    .dataframe thead th {\n",
       "        text-align: right;\n",
       "    }\n",
       "</style>\n",
       "<table border=\"1\" class=\"dataframe\">\n",
       "  <thead>\n",
       "    <tr style=\"text-align: right;\">\n",
       "      <th></th>\n",
       "      <th>LineItemID</th>\n",
       "      <th>TransactionID</th>\n",
       "      <th>MovieCopyID</th>\n",
       "      <th>Price</th>\n",
       "      <th>ReturnDate</th>\n",
       "      <th>CustomerID</th>\n",
       "      <th>TransactionDate</th>\n",
       "      <th>CC-Number</th>\n",
       "      <th>CC-Type</th>\n",
       "      <th>LocationID</th>\n",
       "    </tr>\n",
       "  </thead>\n",
       "  <tbody>\n",
       "    <tr>\n",
       "      <th>0</th>\n",
       "      <td>100000</td>\n",
       "      <td>100000</td>\n",
       "      <td>102083</td>\n",
       "      <td>1.0</td>\n",
       "      <td>2012-07-10</td>\n",
       "      <td>864896</td>\n",
       "      <td>2012-07-07</td>\n",
       "      <td>6011583832864739</td>\n",
       "      <td>Discover</td>\n",
       "      <td>2</td>\n",
       "    </tr>\n",
       "    <tr>\n",
       "      <th>1</th>\n",
       "      <td>100001</td>\n",
       "      <td>100000</td>\n",
       "      <td>102071</td>\n",
       "      <td>1.0</td>\n",
       "      <td>2012-07-08</td>\n",
       "      <td>864896</td>\n",
       "      <td>2012-07-07</td>\n",
       "      <td>6011583832864739</td>\n",
       "      <td>Discover</td>\n",
       "      <td>2</td>\n",
       "    </tr>\n",
       "    <tr>\n",
       "      <th>2</th>\n",
       "      <td>100002</td>\n",
       "      <td>100000</td>\n",
       "      <td>101682</td>\n",
       "      <td>1.0</td>\n",
       "      <td>2012-07-09</td>\n",
       "      <td>864896</td>\n",
       "      <td>2012-07-07</td>\n",
       "      <td>6011583832864739</td>\n",
       "      <td>Discover</td>\n",
       "      <td>2</td>\n",
       "    </tr>\n",
       "    <tr>\n",
       "      <th>3</th>\n",
       "      <td>100003</td>\n",
       "      <td>100000</td>\n",
       "      <td>100982</td>\n",
       "      <td>1.0</td>\n",
       "      <td>2012-07-08</td>\n",
       "      <td>864896</td>\n",
       "      <td>2012-07-07</td>\n",
       "      <td>6011583832864739</td>\n",
       "      <td>Discover</td>\n",
       "      <td>2</td>\n",
       "    </tr>\n",
       "    <tr>\n",
       "      <th>4</th>\n",
       "      <td>100004</td>\n",
       "      <td>100001</td>\n",
       "      <td>101211</td>\n",
       "      <td>1.0</td>\n",
       "      <td>2012-07-14</td>\n",
       "      <td>610766</td>\n",
       "      <td>2012-07-13</td>\n",
       "      <td>4716634257568793</td>\n",
       "      <td>Visa</td>\n",
       "      <td>1</td>\n",
       "    </tr>\n",
       "  </tbody>\n",
       "</table>\n",
       "</div>"
      ],
      "text/plain": [
       "   LineItemID  TransactionID  MovieCopyID  Price ReturnDate  CustomerID  \\\n",
       "0      100000         100000       102083    1.0 2012-07-10      864896   \n",
       "1      100001         100000       102071    1.0 2012-07-08      864896   \n",
       "2      100002         100000       101682    1.0 2012-07-09      864896   \n",
       "3      100003         100000       100982    1.0 2012-07-08      864896   \n",
       "4      100004         100001       101211    1.0 2012-07-14      610766   \n",
       "\n",
       "  TransactionDate         CC-Number   CC-Type  LocationID  \n",
       "0      2012-07-07  6011583832864739  Discover           2  \n",
       "1      2012-07-07  6011583832864739  Discover           2  \n",
       "2      2012-07-07  6011583832864739  Discover           2  \n",
       "3      2012-07-07  6011583832864739  Discover           2  \n",
       "4      2012-07-13  4716634257568793      Visa           1  "
      ]
     },
     "execution_count": 37,
     "metadata": {},
     "output_type": "execute_result"
    }
   ],
   "source": [
    "RT.head()"
   ]
  },
  {
   "cell_type": "code",
   "execution_count": 38,
   "metadata": {},
   "outputs": [],
   "source": [
    "#deleted the column LocationID in MovieCopyID to avoid repetition with that on RT\n",
    "del moviecopy_df['LocationID']\n",
    "RT1 = pd.merge(RT,moviecopy_df, how = 'left', on = 'MovieCopyID' )"
   ]
  },
  {
   "cell_type": "code",
   "execution_count": 39,
   "metadata": {},
   "outputs": [
    {
     "data": {
      "text/plain": [
       "(6310, 12)"
      ]
     },
     "execution_count": 39,
     "metadata": {},
     "output_type": "execute_result"
    }
   ],
   "source": [
    "RT1.shape"
   ]
  },
  {
   "cell_type": "code",
   "execution_count": 40,
   "metadata": {},
   "outputs": [],
   "source": [
    "RT2 = pd.merge(RT1,movie_df, how ='left', on = 'MovieID')"
   ]
  },
  {
   "cell_type": "code",
   "execution_count": 41,
   "metadata": {},
   "outputs": [
    {
     "data": {
      "text/plain": [
       "(6310, 15)"
      ]
     },
     "execution_count": 41,
     "metadata": {},
     "output_type": "execute_result"
    }
   ],
   "source": [
    "RT2 .shape"
   ]
  },
  {
   "cell_type": "code",
   "execution_count": 42,
   "metadata": {},
   "outputs": [],
   "source": [
    "# Rename KI_LocationID in  kiosklocation_df as LocationID so that its common for both\n",
    "# kiosklocation and RT2\n",
    "\n",
    "RT3 = pd.merge(RT2, kiosklocation_df, how ='left', on ='LocationID')"
   ]
  },
  {
   "cell_type": "code",
   "execution_count": 43,
   "metadata": {},
   "outputs": [
    {
     "data": {
      "text/plain": [
       "(6310, 22)"
      ]
     },
     "execution_count": 43,
     "metadata": {},
     "output_type": "execute_result"
    }
   ],
   "source": [
    "RT3.shape"
   ]
  },
  {
   "cell_type": "code",
   "execution_count": 44,
   "metadata": {},
   "outputs": [],
   "source": [
    "RT4 = pd.merge(RT3,customer_df, how = 'left', on ='CustomerID' )"
   ]
  },
  {
   "cell_type": "code",
   "execution_count": 45,
   "metadata": {},
   "outputs": [
    {
     "data": {
      "text/plain": [
       "(6310, 33)"
      ]
     },
     "execution_count": 45,
     "metadata": {},
     "output_type": "execute_result"
    }
   ],
   "source": [
    "RT4.shape"
   ]
  },
  {
   "cell_type": "code",
   "execution_count": 46,
   "metadata": {},
   "outputs": [],
   "source": [
    "RT4.set_index('LineItemID', inplace = True)"
   ]
  },
  {
   "cell_type": "code",
   "execution_count": 47,
   "metadata": {},
   "outputs": [
    {
     "data": {
      "text/html": [
       "<div>\n",
       "<style scoped>\n",
       "    .dataframe tbody tr th:only-of-type {\n",
       "        vertical-align: middle;\n",
       "    }\n",
       "\n",
       "    .dataframe tbody tr th {\n",
       "        vertical-align: top;\n",
       "    }\n",
       "\n",
       "    .dataframe thead th {\n",
       "        text-align: right;\n",
       "    }\n",
       "</style>\n",
       "<table border=\"1\" class=\"dataframe\">\n",
       "  <thead>\n",
       "    <tr style=\"text-align: right;\">\n",
       "      <th></th>\n",
       "      <th>TransactionID</th>\n",
       "      <th>MovieCopyID</th>\n",
       "      <th>Price</th>\n",
       "      <th>ReturnDate</th>\n",
       "      <th>CustomerID</th>\n",
       "      <th>TransactionDate</th>\n",
       "      <th>CC-Number</th>\n",
       "      <th>CC-Type</th>\n",
       "      <th>LocationID</th>\n",
       "      <th>MovieID</th>\n",
       "      <th>...</th>\n",
       "      <th>CX_Last</th>\n",
       "      <th>CX_StreetAddress</th>\n",
       "      <th>CX_City</th>\n",
       "      <th>CX_State</th>\n",
       "      <th>CX_ZipCode</th>\n",
       "      <th>CX_Email</th>\n",
       "      <th>CX_PhoneNumber</th>\n",
       "      <th>CX_MemberSince</th>\n",
       "      <th>CX_SubscribedToEmailList</th>\n",
       "      <th>CX_Gender</th>\n",
       "    </tr>\n",
       "    <tr>\n",
       "      <th>LineItemID</th>\n",
       "      <th></th>\n",
       "      <th></th>\n",
       "      <th></th>\n",
       "      <th></th>\n",
       "      <th></th>\n",
       "      <th></th>\n",
       "      <th></th>\n",
       "      <th></th>\n",
       "      <th></th>\n",
       "      <th></th>\n",
       "      <th></th>\n",
       "      <th></th>\n",
       "      <th></th>\n",
       "      <th></th>\n",
       "      <th></th>\n",
       "      <th></th>\n",
       "      <th></th>\n",
       "      <th></th>\n",
       "      <th></th>\n",
       "      <th></th>\n",
       "      <th></th>\n",
       "    </tr>\n",
       "  </thead>\n",
       "  <tbody>\n",
       "    <tr>\n",
       "      <th>100000</th>\n",
       "      <td>100000</td>\n",
       "      <td>102083</td>\n",
       "      <td>1.0</td>\n",
       "      <td>2012-07-10</td>\n",
       "      <td>864896</td>\n",
       "      <td>2012-07-07</td>\n",
       "      <td>6011583832864739</td>\n",
       "      <td>Discover</td>\n",
       "      <td>2</td>\n",
       "      <td>10208</td>\n",
       "      <td>...</td>\n",
       "      <td>Santangelo</td>\n",
       "      <td>2743 Mohamed Oaks Ct</td>\n",
       "      <td>Elk Grove</td>\n",
       "      <td>CA</td>\n",
       "      <td>95759</td>\n",
       "      <td>frank-pauls@hotmail.com</td>\n",
       "      <td>(916) 796-8873</td>\n",
       "      <td>2012-07-03</td>\n",
       "      <td>True</td>\n",
       "      <td>M</td>\n",
       "    </tr>\n",
       "    <tr>\n",
       "      <th>100001</th>\n",
       "      <td>100000</td>\n",
       "      <td>102071</td>\n",
       "      <td>1.0</td>\n",
       "      <td>2012-07-08</td>\n",
       "      <td>864896</td>\n",
       "      <td>2012-07-07</td>\n",
       "      <td>6011583832864739</td>\n",
       "      <td>Discover</td>\n",
       "      <td>2</td>\n",
       "      <td>10207</td>\n",
       "      <td>...</td>\n",
       "      <td>Santangelo</td>\n",
       "      <td>2743 Mohamed Oaks Ct</td>\n",
       "      <td>Elk Grove</td>\n",
       "      <td>CA</td>\n",
       "      <td>95759</td>\n",
       "      <td>frank-pauls@hotmail.com</td>\n",
       "      <td>(916) 796-8873</td>\n",
       "      <td>2012-07-03</td>\n",
       "      <td>True</td>\n",
       "      <td>M</td>\n",
       "    </tr>\n",
       "    <tr>\n",
       "      <th>100002</th>\n",
       "      <td>100000</td>\n",
       "      <td>101682</td>\n",
       "      <td>1.0</td>\n",
       "      <td>2012-07-09</td>\n",
       "      <td>864896</td>\n",
       "      <td>2012-07-07</td>\n",
       "      <td>6011583832864739</td>\n",
       "      <td>Discover</td>\n",
       "      <td>2</td>\n",
       "      <td>10168</td>\n",
       "      <td>...</td>\n",
       "      <td>Santangelo</td>\n",
       "      <td>2743 Mohamed Oaks Ct</td>\n",
       "      <td>Elk Grove</td>\n",
       "      <td>CA</td>\n",
       "      <td>95759</td>\n",
       "      <td>frank-pauls@hotmail.com</td>\n",
       "      <td>(916) 796-8873</td>\n",
       "      <td>2012-07-03</td>\n",
       "      <td>True</td>\n",
       "      <td>M</td>\n",
       "    </tr>\n",
       "    <tr>\n",
       "      <th>100003</th>\n",
       "      <td>100000</td>\n",
       "      <td>100982</td>\n",
       "      <td>1.0</td>\n",
       "      <td>2012-07-08</td>\n",
       "      <td>864896</td>\n",
       "      <td>2012-07-07</td>\n",
       "      <td>6011583832864739</td>\n",
       "      <td>Discover</td>\n",
       "      <td>2</td>\n",
       "      <td>10098</td>\n",
       "      <td>...</td>\n",
       "      <td>Santangelo</td>\n",
       "      <td>2743 Mohamed Oaks Ct</td>\n",
       "      <td>Elk Grove</td>\n",
       "      <td>CA</td>\n",
       "      <td>95759</td>\n",
       "      <td>frank-pauls@hotmail.com</td>\n",
       "      <td>(916) 796-8873</td>\n",
       "      <td>2012-07-03</td>\n",
       "      <td>True</td>\n",
       "      <td>M</td>\n",
       "    </tr>\n",
       "    <tr>\n",
       "      <th>100004</th>\n",
       "      <td>100001</td>\n",
       "      <td>101211</td>\n",
       "      <td>1.0</td>\n",
       "      <td>2012-07-14</td>\n",
       "      <td>610766</td>\n",
       "      <td>2012-07-13</td>\n",
       "      <td>4716634257568793</td>\n",
       "      <td>Visa</td>\n",
       "      <td>1</td>\n",
       "      <td>10121</td>\n",
       "      <td>...</td>\n",
       "      <td>Ruthven</td>\n",
       "      <td>6783 Los Padres Way</td>\n",
       "      <td>Sacramento</td>\n",
       "      <td>CA</td>\n",
       "      <td>94205</td>\n",
       "      <td>r_dick@aol.com</td>\n",
       "      <td>(916) 535-3358</td>\n",
       "      <td>2012-07-03</td>\n",
       "      <td>True</td>\n",
       "      <td>M</td>\n",
       "    </tr>\n",
       "  </tbody>\n",
       "</table>\n",
       "<p>5 rows × 32 columns</p>\n",
       "</div>"
      ],
      "text/plain": [
       "            TransactionID  MovieCopyID  Price ReturnDate  CustomerID  \\\n",
       "LineItemID                                                             \n",
       "100000             100000       102083    1.0 2012-07-10      864896   \n",
       "100001             100000       102071    1.0 2012-07-08      864896   \n",
       "100002             100000       101682    1.0 2012-07-09      864896   \n",
       "100003             100000       100982    1.0 2012-07-08      864896   \n",
       "100004             100001       101211    1.0 2012-07-14      610766   \n",
       "\n",
       "           TransactionDate         CC-Number   CC-Type  LocationID  MovieID  \\\n",
       "LineItemID                                                                    \n",
       "100000          2012-07-07  6011583832864739  Discover           2    10208   \n",
       "100001          2012-07-07  6011583832864739  Discover           2    10207   \n",
       "100002          2012-07-07  6011583832864739  Discover           2    10168   \n",
       "100003          2012-07-07  6011583832864739  Discover           2    10098   \n",
       "100004          2012-07-13  4716634257568793      Visa           1    10121   \n",
       "\n",
       "            ...     CX_Last      CX_StreetAddress     CX_City CX_State  \\\n",
       "LineItemID  ...                                                          \n",
       "100000      ...  Santangelo  2743 Mohamed Oaks Ct   Elk Grove       CA   \n",
       "100001      ...  Santangelo  2743 Mohamed Oaks Ct   Elk Grove       CA   \n",
       "100002      ...  Santangelo  2743 Mohamed Oaks Ct   Elk Grove       CA   \n",
       "100003      ...  Santangelo  2743 Mohamed Oaks Ct   Elk Grove       CA   \n",
       "100004      ...     Ruthven   6783 Los Padres Way  Sacramento       CA   \n",
       "\n",
       "           CX_ZipCode                 CX_Email  CX_PhoneNumber CX_MemberSince  \\\n",
       "LineItemID                                                                      \n",
       "100000          95759  frank-pauls@hotmail.com  (916) 796-8873     2012-07-03   \n",
       "100001          95759  frank-pauls@hotmail.com  (916) 796-8873     2012-07-03   \n",
       "100002          95759  frank-pauls@hotmail.com  (916) 796-8873     2012-07-03   \n",
       "100003          95759  frank-pauls@hotmail.com  (916) 796-8873     2012-07-03   \n",
       "100004          94205           r_dick@aol.com  (916) 535-3358     2012-07-03   \n",
       "\n",
       "            CX_SubscribedToEmailList  CX_Gender  \n",
       "LineItemID                                       \n",
       "100000                          True          M  \n",
       "100001                          True          M  \n",
       "100002                          True          M  \n",
       "100003                          True          M  \n",
       "100004                          True          M  \n",
       "\n",
       "[5 rows x 32 columns]"
      ]
     },
     "execution_count": 47,
     "metadata": {},
     "output_type": "execute_result"
    }
   ],
   "source": [
    "RT4.head()"
   ]
  },
  {
   "cell_type": "code",
   "execution_count": 48,
   "metadata": {},
   "outputs": [],
   "source": [
    "# I would like to move customerID, first_name and last_name to the left to view easily\n",
    "a = RT4.pop('CustomerID')\n",
    "b = RT4.pop('CX_First')\n",
    "c = RT4.pop('CX_Last')\n",
    "RT4.insert(1, 'CustomerID', a)\n",
    "RT4.insert(2, 'CX_First', b)\n",
    "RT4.insert(3, 'CX_Last', c)"
   ]
  },
  {
   "cell_type": "code",
   "execution_count": 49,
   "metadata": {},
   "outputs": [
    {
     "data": {
      "text/plain": [
       "0"
      ]
     },
     "execution_count": 49,
     "metadata": {},
     "output_type": "execute_result"
    }
   ],
   "source": [
    "RT4.isnull().sum().sum()"
   ]
  },
  {
   "cell_type": "code",
   "execution_count": 50,
   "metadata": {},
   "outputs": [
    {
     "data": {
      "text/plain": [
       "['TransactionID',\n",
       " 'CustomerID',\n",
       " 'CX_First',\n",
       " 'CX_Last',\n",
       " 'MovieCopyID',\n",
       " 'Price',\n",
       " 'ReturnDate',\n",
       " 'TransactionDate',\n",
       " 'CC-Number',\n",
       " 'CC-Type',\n",
       " 'LocationID',\n",
       " 'MovieID',\n",
       " 'Format',\n",
       " 'Title',\n",
       " 'Year',\n",
       " 'Studio',\n",
       " 'KI_LocationName',\n",
       " 'KI_StreetAddress',\n",
       " 'KI_City',\n",
       " 'KI_State',\n",
       " 'KI_ZipCode',\n",
       " 'KI_Latitude',\n",
       " 'KI_Longitude',\n",
       " 'CX_StreetAddress',\n",
       " 'CX_City',\n",
       " 'CX_State',\n",
       " 'CX_ZipCode',\n",
       " 'CX_Email',\n",
       " 'CX_PhoneNumber',\n",
       " 'CX_MemberSince',\n",
       " 'CX_SubscribedToEmailList',\n",
       " 'CX_Gender']"
      ]
     },
     "execution_count": 50,
     "metadata": {},
     "output_type": "execute_result"
    }
   ],
   "source": [
    "# Get a list of all columns in the new dataframe.\n",
    "y= RT4.columns.values.tolist()\n",
    "y"
   ]
  },
  {
   "cell_type": "code",
   "execution_count": 51,
   "metadata": {},
   "outputs": [],
   "source": [
    "RT4['TransactionYear'] = pd.DatetimeIndex(RT4['TransactionDate']).year\n",
    "RT4['ReturnYear'] = pd.DatetimeIndex(RT4['ReturnDate']).year\n",
    "RT4['ReturnDuration'] = RT4['ReturnDate'] - RT4['TransactionDate']"
   ]
  },
  {
   "cell_type": "code",
   "execution_count": 52,
   "metadata": {},
   "outputs": [
    {
     "data": {
      "text/html": [
       "<div>\n",
       "<style scoped>\n",
       "    .dataframe tbody tr th:only-of-type {\n",
       "        vertical-align: middle;\n",
       "    }\n",
       "\n",
       "    .dataframe tbody tr th {\n",
       "        vertical-align: top;\n",
       "    }\n",
       "\n",
       "    .dataframe thead th {\n",
       "        text-align: right;\n",
       "    }\n",
       "</style>\n",
       "<table border=\"1\" class=\"dataframe\">\n",
       "  <thead>\n",
       "    <tr style=\"text-align: right;\">\n",
       "      <th></th>\n",
       "      <th>TransactionID</th>\n",
       "      <th>CustomerID</th>\n",
       "      <th>CX_First</th>\n",
       "      <th>CX_Last</th>\n",
       "      <th>MovieCopyID</th>\n",
       "      <th>Price</th>\n",
       "      <th>ReturnDate</th>\n",
       "      <th>TransactionDate</th>\n",
       "      <th>CC-Number</th>\n",
       "      <th>CC-Type</th>\n",
       "      <th>...</th>\n",
       "      <th>CX_State</th>\n",
       "      <th>CX_ZipCode</th>\n",
       "      <th>CX_Email</th>\n",
       "      <th>CX_PhoneNumber</th>\n",
       "      <th>CX_MemberSince</th>\n",
       "      <th>CX_SubscribedToEmailList</th>\n",
       "      <th>CX_Gender</th>\n",
       "      <th>TransactionYear</th>\n",
       "      <th>ReturnYear</th>\n",
       "      <th>ReturnDuration</th>\n",
       "    </tr>\n",
       "    <tr>\n",
       "      <th>LineItemID</th>\n",
       "      <th></th>\n",
       "      <th></th>\n",
       "      <th></th>\n",
       "      <th></th>\n",
       "      <th></th>\n",
       "      <th></th>\n",
       "      <th></th>\n",
       "      <th></th>\n",
       "      <th></th>\n",
       "      <th></th>\n",
       "      <th></th>\n",
       "      <th></th>\n",
       "      <th></th>\n",
       "      <th></th>\n",
       "      <th></th>\n",
       "      <th></th>\n",
       "      <th></th>\n",
       "      <th></th>\n",
       "      <th></th>\n",
       "      <th></th>\n",
       "      <th></th>\n",
       "    </tr>\n",
       "  </thead>\n",
       "  <tbody>\n",
       "    <tr>\n",
       "      <th>100000</th>\n",
       "      <td>100000</td>\n",
       "      <td>864896</td>\n",
       "      <td>Frank-Paul</td>\n",
       "      <td>Santangelo</td>\n",
       "      <td>102083</td>\n",
       "      <td>1.0</td>\n",
       "      <td>2012-07-10</td>\n",
       "      <td>2012-07-07</td>\n",
       "      <td>6011583832864739</td>\n",
       "      <td>Discover</td>\n",
       "      <td>...</td>\n",
       "      <td>CA</td>\n",
       "      <td>95759</td>\n",
       "      <td>frank-pauls@hotmail.com</td>\n",
       "      <td>(916) 796-8873</td>\n",
       "      <td>2012-07-03</td>\n",
       "      <td>True</td>\n",
       "      <td>M</td>\n",
       "      <td>2012</td>\n",
       "      <td>2012</td>\n",
       "      <td>3 days</td>\n",
       "    </tr>\n",
       "    <tr>\n",
       "      <th>100001</th>\n",
       "      <td>100000</td>\n",
       "      <td>864896</td>\n",
       "      <td>Frank-Paul</td>\n",
       "      <td>Santangelo</td>\n",
       "      <td>102071</td>\n",
       "      <td>1.0</td>\n",
       "      <td>2012-07-08</td>\n",
       "      <td>2012-07-07</td>\n",
       "      <td>6011583832864739</td>\n",
       "      <td>Discover</td>\n",
       "      <td>...</td>\n",
       "      <td>CA</td>\n",
       "      <td>95759</td>\n",
       "      <td>frank-pauls@hotmail.com</td>\n",
       "      <td>(916) 796-8873</td>\n",
       "      <td>2012-07-03</td>\n",
       "      <td>True</td>\n",
       "      <td>M</td>\n",
       "      <td>2012</td>\n",
       "      <td>2012</td>\n",
       "      <td>1 days</td>\n",
       "    </tr>\n",
       "    <tr>\n",
       "      <th>100002</th>\n",
       "      <td>100000</td>\n",
       "      <td>864896</td>\n",
       "      <td>Frank-Paul</td>\n",
       "      <td>Santangelo</td>\n",
       "      <td>101682</td>\n",
       "      <td>1.0</td>\n",
       "      <td>2012-07-09</td>\n",
       "      <td>2012-07-07</td>\n",
       "      <td>6011583832864739</td>\n",
       "      <td>Discover</td>\n",
       "      <td>...</td>\n",
       "      <td>CA</td>\n",
       "      <td>95759</td>\n",
       "      <td>frank-pauls@hotmail.com</td>\n",
       "      <td>(916) 796-8873</td>\n",
       "      <td>2012-07-03</td>\n",
       "      <td>True</td>\n",
       "      <td>M</td>\n",
       "      <td>2012</td>\n",
       "      <td>2012</td>\n",
       "      <td>2 days</td>\n",
       "    </tr>\n",
       "    <tr>\n",
       "      <th>100003</th>\n",
       "      <td>100000</td>\n",
       "      <td>864896</td>\n",
       "      <td>Frank-Paul</td>\n",
       "      <td>Santangelo</td>\n",
       "      <td>100982</td>\n",
       "      <td>1.0</td>\n",
       "      <td>2012-07-08</td>\n",
       "      <td>2012-07-07</td>\n",
       "      <td>6011583832864739</td>\n",
       "      <td>Discover</td>\n",
       "      <td>...</td>\n",
       "      <td>CA</td>\n",
       "      <td>95759</td>\n",
       "      <td>frank-pauls@hotmail.com</td>\n",
       "      <td>(916) 796-8873</td>\n",
       "      <td>2012-07-03</td>\n",
       "      <td>True</td>\n",
       "      <td>M</td>\n",
       "      <td>2012</td>\n",
       "      <td>2012</td>\n",
       "      <td>1 days</td>\n",
       "    </tr>\n",
       "    <tr>\n",
       "      <th>100004</th>\n",
       "      <td>100001</td>\n",
       "      <td>610766</td>\n",
       "      <td>Dick</td>\n",
       "      <td>Ruthven</td>\n",
       "      <td>101211</td>\n",
       "      <td>1.0</td>\n",
       "      <td>2012-07-14</td>\n",
       "      <td>2012-07-13</td>\n",
       "      <td>4716634257568793</td>\n",
       "      <td>Visa</td>\n",
       "      <td>...</td>\n",
       "      <td>CA</td>\n",
       "      <td>94205</td>\n",
       "      <td>r_dick@aol.com</td>\n",
       "      <td>(916) 535-3358</td>\n",
       "      <td>2012-07-03</td>\n",
       "      <td>True</td>\n",
       "      <td>M</td>\n",
       "      <td>2012</td>\n",
       "      <td>2012</td>\n",
       "      <td>1 days</td>\n",
       "    </tr>\n",
       "  </tbody>\n",
       "</table>\n",
       "<p>5 rows × 35 columns</p>\n",
       "</div>"
      ],
      "text/plain": [
       "            TransactionID  CustomerID    CX_First     CX_Last  MovieCopyID  \\\n",
       "LineItemID                                                                   \n",
       "100000             100000      864896  Frank-Paul  Santangelo       102083   \n",
       "100001             100000      864896  Frank-Paul  Santangelo       102071   \n",
       "100002             100000      864896  Frank-Paul  Santangelo       101682   \n",
       "100003             100000      864896  Frank-Paul  Santangelo       100982   \n",
       "100004             100001      610766        Dick     Ruthven       101211   \n",
       "\n",
       "            Price ReturnDate TransactionDate         CC-Number   CC-Type  ...  \\\n",
       "LineItemID                                                                ...   \n",
       "100000        1.0 2012-07-10      2012-07-07  6011583832864739  Discover  ...   \n",
       "100001        1.0 2012-07-08      2012-07-07  6011583832864739  Discover  ...   \n",
       "100002        1.0 2012-07-09      2012-07-07  6011583832864739  Discover  ...   \n",
       "100003        1.0 2012-07-08      2012-07-07  6011583832864739  Discover  ...   \n",
       "100004        1.0 2012-07-14      2012-07-13  4716634257568793      Visa  ...   \n",
       "\n",
       "            CX_State  CX_ZipCode                 CX_Email  CX_PhoneNumber  \\\n",
       "LineItemID                                                                  \n",
       "100000            CA       95759  frank-pauls@hotmail.com  (916) 796-8873   \n",
       "100001            CA       95759  frank-pauls@hotmail.com  (916) 796-8873   \n",
       "100002            CA       95759  frank-pauls@hotmail.com  (916) 796-8873   \n",
       "100003            CA       95759  frank-pauls@hotmail.com  (916) 796-8873   \n",
       "100004            CA       94205           r_dick@aol.com  (916) 535-3358   \n",
       "\n",
       "            CX_MemberSince CX_SubscribedToEmailList CX_Gender TransactionYear  \\\n",
       "LineItemID                                                                      \n",
       "100000          2012-07-03                     True         M            2012   \n",
       "100001          2012-07-03                     True         M            2012   \n",
       "100002          2012-07-03                     True         M            2012   \n",
       "100003          2012-07-03                     True         M            2012   \n",
       "100004          2012-07-03                     True         M            2012   \n",
       "\n",
       "           ReturnYear ReturnDuration  \n",
       "LineItemID                            \n",
       "100000           2012         3 days  \n",
       "100001           2012         1 days  \n",
       "100002           2012         2 days  \n",
       "100003           2012         1 days  \n",
       "100004           2012         1 days  \n",
       "\n",
       "[5 rows x 35 columns]"
      ]
     },
     "execution_count": 52,
     "metadata": {},
     "output_type": "execute_result"
    }
   ],
   "source": [
    "RT4.head()"
   ]
  },
  {
   "cell_type": "markdown",
   "metadata": {},
   "source": [
    "### What are the time intervals of transactions under purview?"
   ]
  },
  {
   "cell_type": "code",
   "execution_count": 53,
   "metadata": {},
   "outputs": [
    {
     "data": {
      "text/plain": [
       "Timestamp('2012-07-07 00:00:00')"
      ]
     },
     "execution_count": 53,
     "metadata": {},
     "output_type": "execute_result"
    }
   ],
   "source": [
    "RT4['TransactionDate'].min()"
   ]
  },
  {
   "cell_type": "code",
   "execution_count": 54,
   "metadata": {},
   "outputs": [
    {
     "data": {
      "text/plain": [
       "Timestamp('2014-09-15 00:00:00')"
      ]
     },
     "execution_count": 54,
     "metadata": {},
     "output_type": "execute_result"
    }
   ],
   "source": [
    "RT4['TransactionDate'].max()"
   ]
  },
  {
   "cell_type": "code",
   "execution_count": 55,
   "metadata": {},
   "outputs": [
    {
     "data": {
      "text/plain": [
       "800"
      ]
     },
     "execution_count": 55,
     "metadata": {},
     "output_type": "execute_result"
    }
   ],
   "source": [
    "(RT4['TransactionDate'].max()- RT4['TransactionDate'].min()).days"
   ]
  },
  {
   "cell_type": "markdown",
   "metadata": {},
   "source": [
    "### A total of how many Transactions are under purview?"
   ]
  },
  {
   "cell_type": "code",
   "execution_count": 56,
   "metadata": {},
   "outputs": [
    {
     "name": "stdout",
     "output_type": "stream",
     "text": [
      " A total of 6310  are under purview\n"
     ]
    }
   ],
   "source": [
    "print(' A total of',RT4.shape[0], ' are under purview')"
   ]
  },
  {
   "cell_type": "markdown",
   "metadata": {},
   "source": [
    "### How many customers are subscribed to Email?"
   ]
  },
  {
   "cell_type": "code",
   "execution_count": 57,
   "metadata": {},
   "outputs": [
    {
     "data": {
      "text/plain": [
       "(554, 11)"
      ]
     },
     "execution_count": 57,
     "metadata": {},
     "output_type": "execute_result"
    }
   ],
   "source": [
    "customer_df.shape"
   ]
  },
  {
   "cell_type": "code",
   "execution_count": 58,
   "metadata": {},
   "outputs": [
    {
     "name": "stdout",
     "output_type": "stream",
     "text": [
      "The number of customers subscribed to email are :  299\n"
     ]
    }
   ],
   "source": [
    "print('The number of customers subscribed to email are : ',customer_df[customer_df['CX_SubscribedToEmailList']==True].shape[0])"
   ]
  },
  {
   "cell_type": "markdown",
   "metadata": {},
   "source": [
    "### How many customers are male or female?"
   ]
  },
  {
   "cell_type": "code",
   "execution_count": 59,
   "metadata": {},
   "outputs": [
    {
     "data": {
      "text/plain": [
       "F    277\n",
       "M    277\n",
       "Name: CX_Gender, dtype: int64"
      ]
     },
     "execution_count": 59,
     "metadata": {},
     "output_type": "execute_result"
    }
   ],
   "source": [
    "customer_df['CX_Gender'].value_counts()"
   ]
  },
  {
   "cell_type": "markdown",
   "metadata": {},
   "source": [
    "### Evaluate Membership growth over the years"
   ]
  },
  {
   "cell_type": "code",
   "execution_count": 60,
   "metadata": {},
   "outputs": [],
   "source": [
    "filt2012 = (customer_df['CX_MemberSince'] < '2013')\n",
    "filt2013 = (customer_df['CX_MemberSince'] < '2014')\n",
    "filt2014 = (customer_df['CX_MemberSince'] < '2015')"
   ]
  },
  {
   "cell_type": "code",
   "execution_count": 61,
   "metadata": {},
   "outputs": [],
   "source": [
    "y = pd.DataFrame({'Year':['2012', '2013', '2014'], 'Number of Members': [customer_df[filt2012].shape[0], customer_df[filt2013].shape[0], customer_df[filt2014].shape[0]]})\n",
    "y.set_index('Year', inplace=True)"
   ]
  },
  {
   "cell_type": "code",
   "execution_count": 62,
   "metadata": {},
   "outputs": [
    {
     "data": {
      "image/png": "[encoded data removed]",
      "text/plain": [
       "<Figure size 432x288 with 1 Axes>"
      ]
     },
     "metadata": {},
     "output_type": "display_data"
    }
   ],
   "source": [
    "y.plot.bar()\n",
    "plt.xlabel(\"Year\")\n",
    "plt.ylabel(\"Number of Members\")\n",
    "plt.title(\"Number of Members by Years\")\n",
    "plt.tight_layout()\n",
    "plt.margins(0.05)"
   ]
  },
  {
   "cell_type": "markdown",
   "metadata": {},
   "source": [
    "### What are the Number of Transactions by years?\n"
   ]
  },
  {
   "cell_type": "code",
   "execution_count": 63,
   "metadata": {},
   "outputs": [
    {
     "data": {
      "text/plain": [
       "2012     364\n",
       "2013    4285\n",
       "2014    1661\n",
       "Name: TransactionYear, dtype: int64"
      ]
     },
     "execution_count": 63,
     "metadata": {},
     "output_type": "execute_result"
    }
   ],
   "source": [
    "TR_ = RT4['TransactionYear'].value_counts().sort_index()\n",
    "TR_ "
   ]
  },
  {
   "cell_type": "code",
   "execution_count": 64,
   "metadata": {},
   "outputs": [
    {
     "data": {
      "image/png": "[encoded data removed]",
      "text/plain": [
       "<Figure size 432x288 with 1 Axes>"
      ]
     },
     "metadata": {},
     "output_type": "display_data"
    }
   ],
   "source": [
    "TR_.plot.bar()\n",
    "plt.xlabel(\"Years\")\n",
    "plt.ylabel(\"Total number of transactions\")\n",
    "plt.title(\"Total number of transactions by Years\")\n",
    "plt.tight_layout()\n",
    "plt.margins(0.05)"
   ]
  },
  {
   "cell_type": "markdown",
   "metadata": {},
   "source": [
    "### What is the distribution of  transaction by Gender over the years?"
   ]
  },
  {
   "cell_type": "code",
   "execution_count": 65,
   "metadata": {},
   "outputs": [
    {
     "data": {
      "text/plain": [
       "F    3232\n",
       "M    3078\n",
       "Name: CX_Gender, dtype: int64"
      ]
     },
     "execution_count": 65,
     "metadata": {},
     "output_type": "execute_result"
    }
   ],
   "source": [
    "Ge_ = RT4['CX_Gender'].value_counts().sort_index()\n",
    "Ge_"
   ]
  },
  {
   "cell_type": "code",
   "execution_count": 66,
   "metadata": {},
   "outputs": [
    {
     "data": {
      "text/plain": [
       "<matplotlib.legend.Legend at 0x161eb9a1e48>"
      ]
     },
     "execution_count": 66,
     "metadata": {},
     "output_type": "execute_result"
    },
    {
     "data": {
      "image/png": "[encoded data removed]",
      "text/plain": [
       "<Figure size 432x288 with 1 Axes>"
      ]
     },
     "metadata": {},
     "output_type": "display_data"
    }
   ],
   "source": [
    "plt.pie(Ge_, autopct = '%1.1f%%',labels = Ge_.index, startangle = 90)\n",
    "plt.title(\"Distribution of transactions by Gender\")\n",
    "plt.tight_layout()\n",
    "plt.margins(0.05)\n",
    "plt.legend(loc = \"upper left\")"
   ]
  },
  {
   "cell_type": "markdown",
   "metadata": {},
   "source": [
    "###  Who are the top 8 customers by number of transactions in the year 2012, 2013, 2014 and overall?"
   ]
  },
  {
   "cell_type": "code",
   "execution_count": 67,
   "metadata": {},
   "outputs": [],
   "source": [
    "Tr_grp = RT4.groupby(['TransactionYear'])\n",
    "cx_grp = RT4.groupby(['CustomerID'])\n",
    "mo_grp = RT4.groupby(['Title'])\n",
    "store_grp = RT4.groupby(['LocationID'])"
   ]
  },
  {
   "cell_type": "code",
   "execution_count": 68,
   "metadata": {},
   "outputs": [],
   "source": [
    "#2012\n",
    "U2012 = Tr_grp['CustomerID'].value_counts().sort_values(ascending=False).loc[2012].head(8)"
   ]
  },
  {
   "cell_type": "code",
   "execution_count": 69,
   "metadata": {},
   "outputs": [
    {
     "data": {
      "image/png": "[encoded data removed]",
      "text/plain": [
       "<Figure size 432x288 with 1 Axes>"
      ]
     },
     "metadata": {},
     "output_type": "display_data"
    }
   ],
   "source": [
    "U2012.plot.bar()\n",
    "plt.xlabel(\"CustomerID\")\n",
    "plt.ylabel(\"number of transactions\")\n",
    "plt.axhline(((Tr_grp['Price'].sum().loc[2012])/(Tr_grp['CustomerID'].nunique().loc[2012])), color = \"blue\", linewidth = 2 )\n",
    "plt.title(\"Number of transactions by CustomerID for the Year 2012\")\n",
    "plt.tight_layout()\n",
    "plt.margins(0.05)"
   ]
  },
  {
   "cell_type": "code",
   "execution_count": 70,
   "metadata": {},
   "outputs": [],
   "source": [
    "#2013\n",
    "U2013 = Tr_grp['CustomerID'].value_counts().sort_values(ascending=False).loc[2013].head(8)"
   ]
  },
  {
   "cell_type": "code",
   "execution_count": 71,
   "metadata": {},
   "outputs": [
    {
     "data": {
      "image/png": "[encoded data removed]",
      "text/plain": [
       "<Figure size 432x288 with 1 Axes>"
      ]
     },
     "metadata": {},
     "output_type": "display_data"
    }
   ],
   "source": [
    "U2013.plot.bar()\n",
    "plt.xlabel(\"CustomerID\")\n",
    "plt.ylabel(\"number of transactions\")\n",
    "plt.axhline(((Tr_grp['Price'].sum().loc[2013])/(Tr_grp['CustomerID'].nunique().loc[2013])), color = \"blue\", linewidth = 2 )\n",
    "plt.title(\"Number of transactions by CustomerID for the Year 2013\")\n",
    "plt.tight_layout()\n",
    "plt.margins(0.05)"
   ]
  },
  {
   "cell_type": "code",
   "execution_count": 72,
   "metadata": {},
   "outputs": [],
   "source": [
    "#2014\n",
    "U2014 = Tr_grp['CustomerID'].value_counts().sort_values(ascending=False).loc[2014].head(8)\n"
   ]
  },
  {
   "cell_type": "code",
   "execution_count": 73,
   "metadata": {},
   "outputs": [
    {
     "data": {
      "image/png": "[encoded data removed]",
      "text/plain": [
       "<Figure size 432x288 with 1 Axes>"
      ]
     },
     "metadata": {},
     "output_type": "display_data"
    }
   ],
   "source": [
    "U2014.plot.bar()\n",
    "plt.xlabel(\"CustomerID\")\n",
    "plt.ylabel(\"number of transactions\")\n",
    "plt.axhline(((Tr_grp['Price'].sum().loc[2014])/(Tr_grp['CustomerID'].nunique().loc[2014])), color = \"blue\", linewidth = 2 )\n",
    "plt.title(\"Number of transactions by CustomerID for the Year 2014\")\n",
    "plt.tight_layout()\n",
    "plt.margins(0.05)"
   ]
  },
  {
   "cell_type": "code",
   "execution_count": 74,
   "metadata": {},
   "outputs": [
    {
     "data": {
      "text/plain": [
       "CustomerID\n",
       "448739    29.0\n",
       "739669    27.0\n",
       "373200    24.0\n",
       "344702    23.0\n",
       "407605    22.0\n",
       "Name: Price, dtype: float64"
      ]
     },
     "execution_count": 74,
     "metadata": {},
     "output_type": "execute_result"
    }
   ],
   "source": [
    "#Overall\n",
    "U_overall = cx_grp['Price'].sum().sort_values(ascending=False).head(10)\n",
    "U_overall.head()"
   ]
  },
  {
   "cell_type": "code",
   "execution_count": 75,
   "metadata": {},
   "outputs": [
    {
     "data": {
      "image/png": "[encoded data removed]",
      "text/plain": [
       "<Figure size 432x288 with 1 Axes>"
      ]
     },
     "metadata": {},
     "output_type": "display_data"
    }
   ],
   "source": [
    "U_overall.plot.bar()\n",
    "plt.xlabel(\"CustomerID\")\n",
    "plt.ylabel(\"number of transactions\")\n",
    "plt.axhline(((RT4['Price'].sum())/(RT4['CustomerID'].nunique())), color = \"blue\", linewidth = 2 )\n",
    "plt.title(\"Number of transactions by CustomerID for the all years\")\n",
    "plt.tight_layout()\n",
    "plt.margins(0.05)"
   ]
  },
  {
   "cell_type": "markdown",
   "metadata": {},
   "source": [
    "### What are top 10 most watched movie of 2012, 2013, 2014 and all time?"
   ]
  },
  {
   "cell_type": "code",
   "execution_count": 76,
   "metadata": {},
   "outputs": [],
   "source": [
    "M2012 = Tr_grp['Title'].value_counts().sort_values(ascending = False).loc[2012].head(10)"
   ]
  },
  {
   "cell_type": "code",
   "execution_count": 77,
   "metadata": {},
   "outputs": [
    {
     "data": {
      "image/png": "[encoded data removed]",
      "text/plain": [
       "<Figure size 432x288 with 1 Axes>"
      ]
     },
     "metadata": {},
     "output_type": "display_data"
    }
   ],
   "source": [
    "M2012.plot.barh()\n",
    "plt.xlabel(\"Number of times watched\")\n",
    "plt.ylabel(\"Movie\")\n",
    "plt.title(\"Top 10 movies watched in 2012\")\n",
    "plt.tight_layout()\n",
    "plt.margins(0.05)"
   ]
  },
  {
   "cell_type": "code",
   "execution_count": 78,
   "metadata": {},
   "outputs": [],
   "source": [
    "M2013 = Tr_grp['Title'].value_counts().sort_values(ascending = False).loc[2013].head(10)"
   ]
  },
  {
   "cell_type": "code",
   "execution_count": 79,
   "metadata": {},
   "outputs": [
    {
     "data": {
      "image/png": "[encoded data removed]",
      "text/plain": [
       "<Figure size 432x288 with 1 Axes>"
      ]
     },
     "metadata": {},
     "output_type": "display_data"
    }
   ],
   "source": [
    "M2013.plot.barh()\n",
    "plt.xlabel(\"Number of times watched\")\n",
    "plt.ylabel(\"Movie\")\n",
    "plt.title(\"Top 10 movies watched in 2013\")\n",
    "plt.tight_layout()\n",
    "plt.margins(0.05)"
   ]
  },
  {
   "cell_type": "code",
   "execution_count": 80,
   "metadata": {},
   "outputs": [],
   "source": [
    "M2014 = Tr_grp['Title'].value_counts().sort_values(ascending = False).loc[2014].head(10)"
   ]
  },
  {
   "cell_type": "code",
   "execution_count": 81,
   "metadata": {},
   "outputs": [
    {
     "data": {
      "image/png": "[encoded data removed]",
      "text/plain": [
       "<Figure size 432x288 with 1 Axes>"
      ]
     },
     "metadata": {},
     "output_type": "display_data"
    }
   ],
   "source": [
    "M2014.plot.barh()\n",
    "plt.xlabel(\"Number of times watched\")\n",
    "plt.ylabel(\"Movie\")\n",
    "plt.title(\"Top 10 movies watched in 2014\")\n",
    "plt.tight_layout()\n",
    "plt.margins(0.05)"
   ]
  },
  {
   "cell_type": "code",
   "execution_count": 82,
   "metadata": {},
   "outputs": [],
   "source": [
    "M_Overall = RT4['Title'].value_counts().sort_values(ascending = False).head(10)"
   ]
  },
  {
   "cell_type": "code",
   "execution_count": 83,
   "metadata": {},
   "outputs": [
    {
     "data": {
      "image/png": "[encoded data removed]",
      "text/plain": [
       "<Figure size 432x288 with 1 Axes>"
      ]
     },
     "metadata": {},
     "output_type": "display_data"
    }
   ],
   "source": [
    "M_Overall.plot.barh()\n",
    "plt.xlabel(\"Number of times watched\")\n",
    "plt.ylabel(\"Movie\")\n",
    "plt.title(\"Top 10 movies watched over the years\")\n",
    "plt.tight_layout()\n",
    "plt.margins(0.05)"
   ]
  },
  {
   "cell_type": "markdown",
   "metadata": {},
   "source": [
    "### What is the  payment type distribution?"
   ]
  },
  {
   "cell_type": "code",
   "execution_count": 84,
   "metadata": {},
   "outputs": [],
   "source": [
    "k = rentaltransaction_df['CC-Type'].value_counts()"
   ]
  },
  {
   "cell_type": "code",
   "execution_count": 85,
   "metadata": {},
   "outputs": [
    {
     "data": {
      "text/plain": [
       "<matplotlib.legend.Legend at 0x161eaf59808>"
      ]
     },
     "execution_count": 85,
     "metadata": {},
     "output_type": "execute_result"
    },
    {
     "data": {
      "image/png": "[encoded data removed]",
      "text/plain": [
       "<Figure size 432x288 with 1 Axes>"
      ]
     },
     "metadata": {},
     "output_type": "display_data"
    }
   ],
   "source": [
    "plt.pie(k, autopct = '%1.1f%%', labels = k.index, startangle = 90)\n",
    "plt.title(\"Payment type distribution\")\n",
    "plt.tight_layout()\n",
    "plt.margins(0.05)\n",
    "plt.legend(title = 'Payment type',loc = 'lower left')\n"
   ]
  },
  {
   "cell_type": "markdown",
   "metadata": {},
   "source": [
    "### What is the minimum, maximum, median, mode and mean duration for customers to return rented movies?"
   ]
  },
  {
   "cell_type": "code",
   "execution_count": 86,
   "metadata": {},
   "outputs": [
    {
     "name": "stdout",
     "output_type": "stream",
     "text": [
      " Minimum and Maximum return duration are respectively :  0 and 21\n",
      " Average return duration is :  1\n",
      " Median return duration is :  1\n",
      " Mode return duration is :  0   1 days\n",
      "dtype: timedelta64[ns]\n"
     ]
    }
   ],
   "source": [
    "Min_return_time = RT4['ReturnDuration'].dropna().min().days\n",
    "Max_return_time = RT4['ReturnDuration'].dropna().max().days\n",
    "Mean_return_time = RT4['ReturnDuration'].dropna().mean().days\n",
    "Median_return_time = RT4['ReturnDuration'].dropna().median().days\n",
    "Mode_return_time = RT4['ReturnDuration'].dropna().mode()\n",
    "print(' Minimum and Maximum return duration are respectively : ', Min_return_time, 'and', Max_return_time )\n",
    "print(' Average return duration is : ', Mean_return_time)\n",
    "print(' Median return duration is : ', Median_return_time)\n",
    "print(' Mode return duration is : ', Mode_return_time)"
   ]
  },
  {
   "cell_type": "code",
   "execution_count": 87,
   "metadata": {},
   "outputs": [
    {
     "data": {
      "text/html": [
       "<div>\n",
       "<style scoped>\n",
       "    .dataframe tbody tr th:only-of-type {\n",
       "        vertical-align: middle;\n",
       "    }\n",
       "\n",
       "    .dataframe tbody tr th {\n",
       "        vertical-align: top;\n",
       "    }\n",
       "\n",
       "    .dataframe thead th {\n",
       "        text-align: right;\n",
       "    }\n",
       "</style>\n",
       "<table border=\"1\" class=\"dataframe\">\n",
       "  <thead>\n",
       "    <tr style=\"text-align: right;\">\n",
       "      <th></th>\n",
       "      <th>CX_First</th>\n",
       "      <th>CX_Last</th>\n",
       "      <th>CustomerID</th>\n",
       "    </tr>\n",
       "    <tr>\n",
       "      <th>LineItemID</th>\n",
       "      <th></th>\n",
       "      <th></th>\n",
       "      <th></th>\n",
       "    </tr>\n",
       "  </thead>\n",
       "  <tbody>\n",
       "    <tr>\n",
       "      <th>100000</th>\n",
       "      <td>Frank-Paul</td>\n",
       "      <td>Santangelo</td>\n",
       "      <td>864896</td>\n",
       "    </tr>\n",
       "    <tr>\n",
       "      <th>100053</th>\n",
       "      <td>Bob</td>\n",
       "      <td>Jones</td>\n",
       "      <td>553931</td>\n",
       "    </tr>\n",
       "    <tr>\n",
       "      <th>100068</th>\n",
       "      <td>Taylor</td>\n",
       "      <td>Graham</td>\n",
       "      <td>643305</td>\n",
       "    </tr>\n",
       "    <tr>\n",
       "      <th>100069</th>\n",
       "      <td>Michael</td>\n",
       "      <td>Roe</td>\n",
       "      <td>832914</td>\n",
       "    </tr>\n",
       "    <tr>\n",
       "      <th>100099</th>\n",
       "      <td>Max</td>\n",
       "      <td>Baer</td>\n",
       "      <td>739669</td>\n",
       "    </tr>\n",
       "    <tr>\n",
       "      <th>...</th>\n",
       "      <td>...</td>\n",
       "      <td>...</td>\n",
       "      <td>...</td>\n",
       "    </tr>\n",
       "    <tr>\n",
       "      <th>109174</th>\n",
       "      <td>Lauren</td>\n",
       "      <td>Ray</td>\n",
       "      <td>657495</td>\n",
       "    </tr>\n",
       "    <tr>\n",
       "      <th>109182</th>\n",
       "      <td>Lynda</td>\n",
       "      <td>Ethridge</td>\n",
       "      <td>663029</td>\n",
       "    </tr>\n",
       "    <tr>\n",
       "      <th>109191</th>\n",
       "      <td>Helen</td>\n",
       "      <td>Oliver</td>\n",
       "      <td>270853</td>\n",
       "    </tr>\n",
       "    <tr>\n",
       "      <th>109194</th>\n",
       "      <td>Peg</td>\n",
       "      <td>Winchester</td>\n",
       "      <td>227372</td>\n",
       "    </tr>\n",
       "    <tr>\n",
       "      <th>109195</th>\n",
       "      <td>Derrek</td>\n",
       "      <td>Lee</td>\n",
       "      <td>703083</td>\n",
       "    </tr>\n",
       "  </tbody>\n",
       "</table>\n",
       "<p>849 rows × 3 columns</p>\n",
       "</div>"
      ],
      "text/plain": [
       "              CX_First     CX_Last  CustomerID\n",
       "LineItemID                                    \n",
       "100000      Frank-Paul  Santangelo      864896\n",
       "100053             Bob       Jones      553931\n",
       "100068          Taylor      Graham      643305\n",
       "100069         Michael         Roe      832914\n",
       "100099             Max        Baer      739669\n",
       "...                ...         ...         ...\n",
       "109174          Lauren         Ray      657495\n",
       "109182           Lynda    Ethridge      663029\n",
       "109191           Helen      Oliver      270853\n",
       "109194             Peg  Winchester      227372\n",
       "109195          Derrek         Lee      703083\n",
       "\n",
       "[849 rows x 3 columns]"
      ]
     },
     "execution_count": 87,
     "metadata": {},
     "output_type": "execute_result"
    }
   ],
   "source": [
    "# From the data above let's get a list of customers who rented for more than 2 days.\n",
    "filt_cust = RT4['ReturnDuration'] > '2 days'\n",
    "RT4[filt_cust][['CX_First', 'CX_Last', 'CustomerID']]"
   ]
  },
  {
   "cell_type": "markdown",
   "metadata": {},
   "source": [
    "### Identifying opportunities: Let's find members who have not made any transaction in 2014.  These members names, emails and telephone numbers should be retrieved for marketing purposes."
   ]
  },
  {
   "cell_type": "code",
   "execution_count": 88,
   "metadata": {},
   "outputs": [
    {
     "name": "stdout",
     "output_type": "stream",
     "text": [
      "Members who made transaction in 2014 are : 490\n"
     ]
    }
   ],
   "source": [
    "filt_cust_2014 = RT4['TransactionYear'] == 2014\n",
    "yu = RT4[filt_cust_2014] ['CustomerID'].unique()\n",
    "print('Members who made transaction in 2014 are :', len(yu))"
   ]
  },
  {
   "cell_type": "code",
   "execution_count": 89,
   "metadata": {},
   "outputs": [],
   "source": [
    "# made a new table on customer_df to count cx who made transactions in 2014 as 1 and those who did nothing as 0. \n",
    "yu = RT4[filt_cust_2014] ['CustomerID'].unique()\n",
    "pt = customer_df.index\n",
    "for i in pt:\n",
    "    for j in yu:\n",
    "        if i ==j:\n",
    "            customer_df.loc[i, 'mem_count'] = 1\n",
    "            \n",
    "customer_df['mem_count'] = customer_df['mem_count'].fillna(0)"
   ]
  },
  {
   "cell_type": "code",
   "execution_count": 90,
   "metadata": {},
   "outputs": [
    {
     "data": {
      "text/plain": [
       "1.0    490\n",
       "0.0     64\n",
       "Name: mem_count, dtype: int64"
      ]
     },
     "execution_count": 90,
     "metadata": {},
     "output_type": "execute_result"
    }
   ],
   "source": [
    "customer_df['mem_count'].value_counts()\n",
    "# These shows that 64 of 554 members did not make transactions in 2014. "
   ]
  },
  {
   "cell_type": "code",
   "execution_count": 91,
   "metadata": {},
   "outputs": [
    {
     "data": {
      "text/html": [
       "<div>\n",
       "<style scoped>\n",
       "    .dataframe tbody tr th:only-of-type {\n",
       "        vertical-align: middle;\n",
       "    }\n",
       "\n",
       "    .dataframe tbody tr th {\n",
       "        vertical-align: top;\n",
       "    }\n",
       "\n",
       "    .dataframe thead th {\n",
       "        text-align: right;\n",
       "    }\n",
       "</style>\n",
       "<table border=\"1\" class=\"dataframe\">\n",
       "  <thead>\n",
       "    <tr style=\"text-align: right;\">\n",
       "      <th></th>\n",
       "      <th>CX_First</th>\n",
       "      <th>CX_Last</th>\n",
       "      <th>CX_Email</th>\n",
       "      <th>CX_PhoneNumber</th>\n",
       "    </tr>\n",
       "    <tr>\n",
       "      <th>CustomerID</th>\n",
       "      <th></th>\n",
       "      <th></th>\n",
       "      <th></th>\n",
       "      <th></th>\n",
       "    </tr>\n",
       "  </thead>\n",
       "  <tbody>\n",
       "    <tr>\n",
       "      <th>122818</th>\n",
       "      <td>Beatrice</td>\n",
       "      <td>Abramson</td>\n",
       "      <td>beatrice.a@yahoo.com</td>\n",
       "      <td>(916) 324-4893</td>\n",
       "    </tr>\n",
       "    <tr>\n",
       "      <th>145929</th>\n",
       "      <td>Joyce</td>\n",
       "      <td>Meadows</td>\n",
       "      <td>joycem26@gmail.com</td>\n",
       "      <td>(916) 607-8534</td>\n",
       "    </tr>\n",
       "    <tr>\n",
       "      <th>147218</th>\n",
       "      <td>Madeleine</td>\n",
       "      <td>Savoie</td>\n",
       "      <td>m.savoie@aol.com</td>\n",
       "      <td>(916) 360-9980</td>\n",
       "    </tr>\n",
       "    <tr>\n",
       "      <th>178806</th>\n",
       "      <td>Mary</td>\n",
       "      <td>Whipple</td>\n",
       "      <td>mary.w@icloud.com</td>\n",
       "      <td>(916) 334-1354</td>\n",
       "    </tr>\n",
       "    <tr>\n",
       "      <th>185863</th>\n",
       "      <td>Constance</td>\n",
       "      <td>Gonzalez</td>\n",
       "      <td>c.gonzalez@aol.com</td>\n",
       "      <td>(916) 530-7548</td>\n",
       "    </tr>\n",
       "    <tr>\n",
       "      <th>...</th>\n",
       "      <td>...</td>\n",
       "      <td>...</td>\n",
       "      <td>...</td>\n",
       "      <td>...</td>\n",
       "    </tr>\n",
       "    <tr>\n",
       "      <th>938393</th>\n",
       "      <td>James</td>\n",
       "      <td>Donaldson</td>\n",
       "      <td>james.d@mail.com</td>\n",
       "      <td>(916) 631-6353</td>\n",
       "    </tr>\n",
       "    <tr>\n",
       "      <th>940912</th>\n",
       "      <td>Darren</td>\n",
       "      <td>Oliver</td>\n",
       "      <td>darreno@zoho.com</td>\n",
       "      <td>(916) 527-1189</td>\n",
       "    </tr>\n",
       "    <tr>\n",
       "      <th>944523</th>\n",
       "      <td>Sabrina</td>\n",
       "      <td>Bastian</td>\n",
       "      <td>sabrinab2@fastmail.com</td>\n",
       "      <td>(916) 538-2037</td>\n",
       "    </tr>\n",
       "    <tr>\n",
       "      <th>950299</th>\n",
       "      <td>Pearl</td>\n",
       "      <td>Green</td>\n",
       "      <td>pgreen@icloud.com</td>\n",
       "      <td>(916) 933-8511</td>\n",
       "    </tr>\n",
       "    <tr>\n",
       "      <th>994269</th>\n",
       "      <td>Derwin</td>\n",
       "      <td>Williams</td>\n",
       "      <td>wderwin57@hotmail.com</td>\n",
       "      <td>(916) 541-5697</td>\n",
       "    </tr>\n",
       "  </tbody>\n",
       "</table>\n",
       "<p>64 rows × 4 columns</p>\n",
       "</div>"
      ],
      "text/plain": [
       "             CX_First    CX_Last                CX_Email  CX_PhoneNumber\n",
       "CustomerID                                                              \n",
       "122818       Beatrice   Abramson    beatrice.a@yahoo.com  (916) 324-4893\n",
       "145929          Joyce    Meadows      joycem26@gmail.com  (916) 607-8534\n",
       "147218      Madeleine     Savoie        m.savoie@aol.com  (916) 360-9980\n",
       "178806           Mary    Whipple       mary.w@icloud.com  (916) 334-1354\n",
       "185863      Constance   Gonzalez      c.gonzalez@aol.com  (916) 530-7548\n",
       "...               ...        ...                     ...             ...\n",
       "938393          James  Donaldson        james.d@mail.com  (916) 631-6353\n",
       "940912         Darren     Oliver        darreno@zoho.com  (916) 527-1189\n",
       "944523        Sabrina    Bastian  sabrinab2@fastmail.com  (916) 538-2037\n",
       "950299          Pearl      Green       pgreen@icloud.com  (916) 933-8511\n",
       "994269         Derwin   Williams   wderwin57@hotmail.com  (916) 541-5697\n",
       "\n",
       "[64 rows x 4 columns]"
      ]
     },
     "execution_count": 91,
     "metadata": {},
     "output_type": "execute_result"
    }
   ],
   "source": [
    "pro_cx = customer_df['mem_count'] == 0\n",
    "promotion_cust = customer_df[pro_cx][['CX_First', 'CX_Last', 'CX_Email', 'CX_PhoneNumber']]\n",
    "promotion_cust"
   ]
  },
  {
   "cell_type": "markdown",
   "metadata": {},
   "source": [
    "### Which stores made the most transactions?"
   ]
  },
  {
   "cell_type": "code",
   "execution_count": 92,
   "metadata": {},
   "outputs": [],
   "source": [
    "Store_1 = store_grp['TransactionYear'].value_counts().sort_index().loc[1]\n",
    "Store_2 = store_grp['TransactionYear'].value_counts().sort_index().loc[2]"
   ]
  },
  {
   "cell_type": "code",
   "execution_count": 93,
   "metadata": {},
   "outputs": [],
   "source": [
    "store_trans = pd.DataFrame({'Store 1' : Store_1, 'Store 2': Store_2})"
   ]
  },
  {
   "cell_type": "code",
   "execution_count": 94,
   "metadata": {},
   "outputs": [
    {
     "data": {
      "image/png": "[encoded data removed]",
      "text/plain": [
       "<Figure size 432x288 with 1 Axes>"
      ]
     },
     "metadata": {},
     "output_type": "display_data"
    }
   ],
   "source": [
    "ax = store_trans.plot.bar(rot=0)"
   ]
  },
  {
   "cell_type": "markdown",
   "metadata": {},
   "source": [
    "### Which  movies have an average highest rating of 5?"
   ]
  },
  {
   "cell_type": "code",
   "execution_count": 95,
   "metadata": {},
   "outputs": [
    {
     "name": "stdout",
     "output_type": "stream",
     "text": [
      "The number of movies that are top rated are :  19\n"
     ]
    },
    {
     "data": {
      "text/html": [
       "<div>\n",
       "<style scoped>\n",
       "    .dataframe tbody tr th:only-of-type {\n",
       "        vertical-align: middle;\n",
       "    }\n",
       "\n",
       "    .dataframe tbody tr th {\n",
       "        vertical-align: top;\n",
       "    }\n",
       "\n",
       "    .dataframe thead th {\n",
       "        text-align: right;\n",
       "    }\n",
       "</style>\n",
       "<table border=\"1\" class=\"dataframe\">\n",
       "  <thead>\n",
       "    <tr style=\"text-align: right;\">\n",
       "      <th></th>\n",
       "      <th>StarRating</th>\n",
       "      <th>Title</th>\n",
       "      <th>Year</th>\n",
       "      <th>Studio</th>\n",
       "    </tr>\n",
       "    <tr>\n",
       "      <th>MovieID</th>\n",
       "      <th></th>\n",
       "      <th></th>\n",
       "      <th></th>\n",
       "      <th></th>\n",
       "    </tr>\n",
       "  </thead>\n",
       "  <tbody>\n",
       "    <tr>\n",
       "      <th>10273</th>\n",
       "      <td>5.0</td>\n",
       "      <td>The Smurfs 2</td>\n",
       "      <td>2013</td>\n",
       "      <td>Sony</td>\n",
       "    </tr>\n",
       "    <tr>\n",
       "      <th>10090</th>\n",
       "      <td>5.0</td>\n",
       "      <td>Justin Bieber: Never Say Never</td>\n",
       "      <td>2011</td>\n",
       "      <td>Paramount</td>\n",
       "    </tr>\n",
       "    <tr>\n",
       "      <th>10128</th>\n",
       "      <td>5.0</td>\n",
       "      <td>The Call</td>\n",
       "      <td>2013</td>\n",
       "      <td>TriStar</td>\n",
       "    </tr>\n",
       "    <tr>\n",
       "      <th>10022</th>\n",
       "      <td>5.0</td>\n",
       "      <td>Pitch Perfect</td>\n",
       "      <td>2012</td>\n",
       "      <td>Universal</td>\n",
       "    </tr>\n",
       "    <tr>\n",
       "      <th>10046</th>\n",
       "      <td>5.0</td>\n",
       "      <td>Skyfall</td>\n",
       "      <td>2012</td>\n",
       "      <td>Sony</td>\n",
       "    </tr>\n",
       "    <tr>\n",
       "      <th>10021</th>\n",
       "      <td>5.0</td>\n",
       "      <td>Flight</td>\n",
       "      <td>2012</td>\n",
       "      <td>Paramount</td>\n",
       "    </tr>\n",
       "    <tr>\n",
       "      <th>10258</th>\n",
       "      <td>5.0</td>\n",
       "      <td>The Conjuring</td>\n",
       "      <td>2013</td>\n",
       "      <td>Warner Brothers</td>\n",
       "    </tr>\n",
       "    <tr>\n",
       "      <th>10268</th>\n",
       "      <td>5.0</td>\n",
       "      <td>The Lone Ranger</td>\n",
       "      <td>2013</td>\n",
       "      <td>Buena Vista</td>\n",
       "    </tr>\n",
       "    <tr>\n",
       "      <th>10194</th>\n",
       "      <td>5.0</td>\n",
       "      <td>Insidious</td>\n",
       "      <td>2011</td>\n",
       "      <td>FilmDistrict</td>\n",
       "    </tr>\n",
       "    <tr>\n",
       "      <th>10204</th>\n",
       "      <td>5.0</td>\n",
       "      <td>Bridesmaids</td>\n",
       "      <td>2011</td>\n",
       "      <td>Universal</td>\n",
       "    </tr>\n",
       "    <tr>\n",
       "      <th>10134</th>\n",
       "      <td>5.0</td>\n",
       "      <td>Hop</td>\n",
       "      <td>2011</td>\n",
       "      <td>Universal</td>\n",
       "    </tr>\n",
       "    <tr>\n",
       "      <th>10208</th>\n",
       "      <td>5.0</td>\n",
       "      <td>Green Lantern</td>\n",
       "      <td>2011</td>\n",
       "      <td>Warner Brothers</td>\n",
       "    </tr>\n",
       "    <tr>\n",
       "      <th>10071</th>\n",
       "      <td>5.0</td>\n",
       "      <td>Mission: Impossible - Ghost Protocol</td>\n",
       "      <td>2011</td>\n",
       "      <td>Paramount</td>\n",
       "    </tr>\n",
       "    <tr>\n",
       "      <th>10167</th>\n",
       "      <td>5.0</td>\n",
       "      <td>Dr. Seuss' The Lorax</td>\n",
       "      <td>2012</td>\n",
       "      <td>Universal</td>\n",
       "    </tr>\n",
       "    <tr>\n",
       "      <th>10095</th>\n",
       "      <td>5.0</td>\n",
       "      <td>Django Unchained</td>\n",
       "      <td>2012</td>\n",
       "      <td>Weinstein Company</td>\n",
       "    </tr>\n",
       "    <tr>\n",
       "      <th>10108</th>\n",
       "      <td>5.0</td>\n",
       "      <td>Big Mommas: Like Father, Like Son</td>\n",
       "      <td>2011</td>\n",
       "      <td>Fox</td>\n",
       "    </tr>\n",
       "    <tr>\n",
       "      <th>10148</th>\n",
       "      <td>5.0</td>\n",
       "      <td>Rango</td>\n",
       "      <td>2011</td>\n",
       "      <td>Paramount</td>\n",
       "    </tr>\n",
       "    <tr>\n",
       "      <th>10340</th>\n",
       "      <td>5.0</td>\n",
       "      <td>The Nut Job</td>\n",
       "      <td>2014</td>\n",
       "      <td>Open Road Films</td>\n",
       "    </tr>\n",
       "    <tr>\n",
       "      <th>10283</th>\n",
       "      <td>5.0</td>\n",
       "      <td>One Direction: This is Us</td>\n",
       "      <td>2013</td>\n",
       "      <td>TriStar</td>\n",
       "    </tr>\n",
       "  </tbody>\n",
       "</table>\n",
       "</div>"
      ],
      "text/plain": [
       "         StarRating                                 Title  Year  \\\n",
       "MovieID                                                           \n",
       "10273           5.0                          The Smurfs 2  2013   \n",
       "10090           5.0        Justin Bieber: Never Say Never  2011   \n",
       "10128           5.0                              The Call  2013   \n",
       "10022           5.0                         Pitch Perfect  2012   \n",
       "10046           5.0                               Skyfall  2012   \n",
       "10021           5.0                                Flight  2012   \n",
       "10258           5.0                         The Conjuring  2013   \n",
       "10268           5.0                       The Lone Ranger  2013   \n",
       "10194           5.0                             Insidious  2011   \n",
       "10204           5.0                           Bridesmaids  2011   \n",
       "10134           5.0                                   Hop  2011   \n",
       "10208           5.0                         Green Lantern  2011   \n",
       "10071           5.0  Mission: Impossible - Ghost Protocol  2011   \n",
       "10167           5.0                  Dr. Seuss' The Lorax  2012   \n",
       "10095           5.0                      Django Unchained  2012   \n",
       "10108           5.0     Big Mommas: Like Father, Like Son  2011   \n",
       "10148           5.0                                 Rango  2011   \n",
       "10340           5.0                           The Nut Job  2014   \n",
       "10283           5.0             One Direction: This is Us  2013   \n",
       "\n",
       "                    Studio  \n",
       "MovieID                     \n",
       "10273                 Sony  \n",
       "10090            Paramount  \n",
       "10128              TriStar  \n",
       "10022            Universal  \n",
       "10046                 Sony  \n",
       "10021            Paramount  \n",
       "10258      Warner Brothers  \n",
       "10268          Buena Vista  \n",
       "10194         FilmDistrict  \n",
       "10204            Universal  \n",
       "10134            Universal  \n",
       "10208      Warner Brothers  \n",
       "10071            Paramount  \n",
       "10167            Universal  \n",
       "10095    Weinstein Company  \n",
       "10108                  Fox  \n",
       "10148            Paramount  \n",
       "10340      Open Road Films  \n",
       "10283              TriStar  "
      ]
     },
     "execution_count": 95,
     "metadata": {},
     "output_type": "execute_result"
    }
   ],
   "source": [
    "mov_rate = pd.merge(moviereview_df, movie_df, how = 'left', on = 'MovieID') \n",
    "top_mov = mov_rate.groupby(['MovieID'])\n",
    "rate_5 = top_mov['StarRating'].mean().sort_values(ascending = False)\n",
    "filt_rate_5 = rate_5 == 5\n",
    "trm = rate_5[filt_rate_5]\n",
    "top_rated = pd.merge(trm, movie_df, how ='left', on = 'MovieID')\n",
    "print('The number of movies that are top rated are : ', top_rated.shape[0])\n",
    "top_rated"
   ]
  }
 ],
 "metadata": {
  "kernelspec": {
   "display_name": "Python 3",
   "language": "python",
   "name": "python3"
  },
  "language_info": {
   "codemirror_mode": {
    "name": "ipython",
    "version": 3
   },
   "file_extension": ".py",
   "mimetype": "text/x-python",
   "name": "python",
   "nbconvert_exporter": "python",
   "pygments_lexer": "ipython3",
   "version": "3.7.6"
  }
 },
 "nbformat": 4,
 "nbformat_minor": 4
}
